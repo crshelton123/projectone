{
 "cells": [
  {
   "cell_type": "code",
   "execution_count": 18,
   "id": "8c37dfd4-2333-4ec3-b6a3-ec3c504033d5",
   "metadata": {},
   "outputs": [],
   "source": [
    "#Initial imports\n",
    "import pandas as pd\n",
    "from pathlib import Path\n",
    "import hvplot.pandas"
   ]
  },
  {
   "cell_type": "code",
   "execution_count": 19,
   "id": "a3b54b49-07e3-4f0d-b296-58ce05476c02",
   "metadata": {},
   "outputs": [],
   "source": [
    "#Set paths\n",
    "ed_both_path = Path(\"Resources/ed_both_genders_by_age.csv\")\n",
    "ed_females_path = Path(\"Resources/ed_females_by_age.csv\")\n",
    "ed_males_path = Path(\"Resources/ed_males_by_age.csv\")\n",
    "income_path = Path(\"Resources/income_distribution_by_race_cleaned.csv\")\n",
    "income_age_path = Path(\"Resources/incomebyage.csv\")"
   ]
  },
  {
   "cell_type": "code",
   "execution_count": 20,
   "id": "0b4293db-0645-47ca-839b-5a9c87f44055",
   "metadata": {},
   "outputs": [],
   "source": [
    "#Import Data\n",
    "education_both_genders_df = pd.read_csv(ed_both_path)\n",
    "education_females_df = pd.read_csv(ed_females_path)\n",
    "education_males_df = pd.read_csv(ed_males_path)\n",
    "income_percent_by_race_df = pd.read_csv(income_path)\n",
    "income_by_age_df = pd.read_csv(income_age_path)"
   ]
  },
  {
   "cell_type": "code",
   "execution_count": 21,
   "id": "5fc11c78-b3a0-4538-8e1c-24a74b08fd22",
   "metadata": {},
   "outputs": [],
   "source": [
    "#Rename Row 0 as Header and Delete it as first row of all dataframes\n",
    "education_both_genders_df = education_both_genders_df.rename(columns=education_both_genders_df.iloc[0]).loc[1:]\n",
    "education_females_df = education_females_df.rename(columns=education_females_df.iloc[0]).loc[1:]\n",
    "education_males_df = education_males_df.rename(columns=education_males_df.iloc[0]).loc[1:]\n",
    "income_by_age_df = income_by_age_df.rename(columns=income_by_age_df.iloc[0]).loc[1:]"
   ]
  },
  {
   "cell_type": "code",
   "execution_count": 6,
   "id": "02c4e119-3bb9-417e-8301-32075d8af994",
   "metadata": {},
   "outputs": [],
   "source": [
    "#Drop Nulls to Retrieve only Data for 2021 in income percent df\n",
    "income_percent_by_race_2021 = income_percent_by_race_df.dropna()"
   ]
  },
  {
   "cell_type": "code",
   "execution_count": 7,
   "id": "246e035e-764e-4bcb-8c8f-45449df52019",
   "metadata": {},
   "outputs": [],
   "source": [
    "#Drop extraneous columns in income percent df\n",
    "income_percent_by_race_2021 = income_percent_by_race_2021.drop(columns=['Number in thousands', 'Total', 'Year', 'Median Estimate', 'Margin of error', 'Mean Estimate', 'Margin of error.1'])\n",
    "income_percent_by_race_2021 = income_percent_by_race_2021.rename(columns={'Race and Hispanic origin of householder':'Race'})"
   ]
  },
  {
   "cell_type": "code",
   "execution_count": 93,
   "id": "2d66f517-e71b-4ab6-9d6a-ededfa9d0947",
   "metadata": {},
   "outputs": [
    {
     "data": {
      "text/html": [
       "<div>\n",
       "<style scoped>\n",
       "    .dataframe tbody tr th:only-of-type {\n",
       "        vertical-align: middle;\n",
       "    }\n",
       "\n",
       "    .dataframe tbody tr th {\n",
       "        vertical-align: top;\n",
       "    }\n",
       "\n",
       "    .dataframe thead th {\n",
       "        text-align: right;\n",
       "    }\n",
       "</style>\n",
       "<table border=\"1\" class=\"dataframe\">\n",
       "  <thead>\n",
       "    <tr style=\"text-align: right;\">\n",
       "      <th></th>\n",
       "      <th>Under $15,000</th>\n",
       "      <th>15,000 to 24,999</th>\n",
       "      <th>25,000 to 34,999</th>\n",
       "      <th>35,000 to 49,999</th>\n",
       "      <th>50,000 to 74,999</th>\n",
       "      <th>75,000 to 99,999</th>\n",
       "      <th>100,000 to 149,999</th>\n",
       "      <th>150,000 to 199,999</th>\n",
       "      <th>$200,000 and over</th>\n",
       "    </tr>\n",
       "    <tr>\n",
       "      <th>Race</th>\n",
       "      <th></th>\n",
       "      <th></th>\n",
       "      <th></th>\n",
       "      <th></th>\n",
       "      <th></th>\n",
       "      <th></th>\n",
       "      <th></th>\n",
       "      <th></th>\n",
       "      <th></th>\n",
       "    </tr>\n",
       "  </thead>\n",
       "  <tbody>\n",
       "    <tr>\n",
       "      <th>ALL RACES</th>\n",
       "      <td>9.3</td>\n",
       "      <td>8.1</td>\n",
       "      <td>7.8</td>\n",
       "      <td>10.9</td>\n",
       "      <td>16.2</td>\n",
       "      <td>11.9</td>\n",
       "      <td>15.9</td>\n",
       "      <td>8.3</td>\n",
       "      <td>11.6</td>\n",
       "    </tr>\n",
       "    <tr>\n",
       "      <th>WHITE ALONE</th>\n",
       "      <td>8.2</td>\n",
       "      <td>7.6</td>\n",
       "      <td>7.6</td>\n",
       "      <td>10.8</td>\n",
       "      <td>16.2</td>\n",
       "      <td>12.3</td>\n",
       "      <td>16.6</td>\n",
       "      <td>8.6</td>\n",
       "      <td>12.1</td>\n",
       "    </tr>\n",
       "    <tr>\n",
       "      <th>WHITE ALONE, NOT HISPANIC</th>\n",
       "      <td>7.6</td>\n",
       "      <td>7.5</td>\n",
       "      <td>7.2</td>\n",
       "      <td>10.2</td>\n",
       "      <td>15.7</td>\n",
       "      <td>12.3</td>\n",
       "      <td>17.0</td>\n",
       "      <td>9.2</td>\n",
       "      <td>13.3</td>\n",
       "    </tr>\n",
       "    <tr>\n",
       "      <th>BLACK ALONE OR IN COMBINATION</th>\n",
       "      <td>15.7</td>\n",
       "      <td>11.5</td>\n",
       "      <td>10.0</td>\n",
       "      <td>13.5</td>\n",
       "      <td>16.9</td>\n",
       "      <td>10.4</td>\n",
       "      <td>11.6</td>\n",
       "      <td>4.7</td>\n",
       "      <td>5.7</td>\n",
       "    </tr>\n",
       "    <tr>\n",
       "      <th>BLACK ALONE</th>\n",
       "      <td>15.9</td>\n",
       "      <td>11.7</td>\n",
       "      <td>10.0</td>\n",
       "      <td>13.4</td>\n",
       "      <td>17.0</td>\n",
       "      <td>10.4</td>\n",
       "      <td>11.4</td>\n",
       "      <td>4.6</td>\n",
       "      <td>5.7</td>\n",
       "    </tr>\n",
       "  </tbody>\n",
       "</table>\n",
       "</div>"
      ],
      "text/plain": [
       "                               Under $15,000  15,000 to 24,999  \\\n",
       "Race                                                             \n",
       "ALL RACES                                9.3               8.1   \n",
       "WHITE ALONE                              8.2               7.6   \n",
       "WHITE ALONE, NOT HISPANIC                7.6               7.5   \n",
       "BLACK ALONE OR IN COMBINATION           15.7              11.5   \n",
       "BLACK ALONE                             15.9              11.7   \n",
       "\n",
       "                               25,000 to 34,999  35,000 to 49,999  \\\n",
       "Race                                                                \n",
       "ALL RACES                                   7.8              10.9   \n",
       "WHITE ALONE                                 7.6              10.8   \n",
       "WHITE ALONE, NOT HISPANIC                   7.2              10.2   \n",
       "BLACK ALONE OR IN COMBINATION              10.0              13.5   \n",
       "BLACK ALONE                                10.0              13.4   \n",
       "\n",
       "                               50,000 to 74,999  75,000 to 99,999  \\\n",
       "Race                                                                \n",
       "ALL RACES                                  16.2              11.9   \n",
       "WHITE ALONE                                16.2              12.3   \n",
       "WHITE ALONE, NOT HISPANIC                  15.7              12.3   \n",
       "BLACK ALONE OR IN COMBINATION              16.9              10.4   \n",
       "BLACK ALONE                                17.0              10.4   \n",
       "\n",
       "                               100,000 to 149,999  150,000 to 199,999  \\\n",
       "Race                                                                    \n",
       "ALL RACES                                    15.9                 8.3   \n",
       "WHITE ALONE                                  16.6                 8.6   \n",
       "WHITE ALONE, NOT HISPANIC                    17.0                 9.2   \n",
       "BLACK ALONE OR IN COMBINATION                11.6                 4.7   \n",
       "BLACK ALONE                                  11.4                 4.6   \n",
       "\n",
       "                               $200,000 and over  \n",
       "Race                                              \n",
       "ALL RACES                                   11.6  \n",
       "WHITE ALONE                                 12.1  \n",
       "WHITE ALONE, NOT HISPANIC                   13.3  \n",
       "BLACK ALONE OR IN COMBINATION                5.7  \n",
       "BLACK ALONE                                  5.7  "
      ]
     },
     "execution_count": 93,
     "metadata": {},
     "output_type": "execute_result"
    }
   ],
   "source": [
    "#Set index to the Race Column and drop it\n",
    "income_percent_by_race_2021 = income_percent_by_race_2021.set_index(income_percent_by_race_2021['Race'])\n",
    "income_percent_by_race_2021.drop(columns='Race', inplace=True)\n",
    "income_percent_by_race_2021.head()"
   ]
  },
  {
   "cell_type": "code",
   "execution_count": 94,
   "id": "224d6fb5-5db3-42a7-b637-251a55ce0b9a",
   "metadata": {},
   "outputs": [
    {
     "data": {
      "text/plain": [
       "Race\n",
       "ALL RACES                        10.9\n",
       "WHITE ALONE                      10.8\n",
       "WHITE ALONE, NOT HISPANIC        10.2\n",
       "BLACK ALONE OR IN COMBINATION    13.5\n",
       "BLACK ALONE                      13.4\n",
       "Name: 35,000 to 49,999, dtype: float64"
      ]
     },
     "execution_count": 94,
     "metadata": {},
     "output_type": "execute_result"
    }
   ],
   "source": [
    "income_35k_49K = income_percent_by_race_2021['35,000 to 49,999']\n",
    "income_35k_49K.head()"
   ]
  },
  {
   "cell_type": "code",
   "execution_count": 95,
   "id": "73fdad2a-5faf-4063-bca2-1a27bce28967",
   "metadata": {
    "tags": []
   },
   "outputs": [
    {
     "data": {},
     "metadata": {},
     "output_type": "display_data"
    },
    {
     "data": {
      "application/vnd.holoviews_exec.v0+json": "",
      "text/html": [
       "<div id='4053'>\n",
       "  <div class=\"bk-root\" id=\"7692a38b-3c49-496c-a649-15ce53f9e3bd\" data-root-id=\"4053\"></div>\n",
       "</div>\n",
       "<script type=\"application/javascript\">(function(root) {\n",
       "  function embed_document(root) {\n",
       "    var docs_json = {\"d4ee359f-b62b-4426-b0ab-b5f6b1345345\":{\"defs\":[{\"extends\":null,\"module\":null,\"name\":\"ReactiveHTML1\",\"overrides\":[],\"properties\":[]},{\"extends\":null,\"module\":null,\"name\":\"FlexBox1\",\"overrides\":[],\"properties\":[{\"default\":\"flex-start\",\"kind\":null,\"name\":\"align_content\"},{\"default\":\"flex-start\",\"kind\":null,\"name\":\"align_items\"},{\"default\":\"row\",\"kind\":null,\"name\":\"flex_direction\"},{\"default\":\"wrap\",\"kind\":null,\"name\":\"flex_wrap\"},{\"default\":\"flex-start\",\"kind\":null,\"name\":\"justify_content\"}]},{\"extends\":null,\"module\":null,\"name\":\"GridStack1\",\"overrides\":[],\"properties\":[{\"default\":\"warn\",\"kind\":null,\"name\":\"mode\"},{\"default\":null,\"kind\":null,\"name\":\"ncols\"},{\"default\":null,\"kind\":null,\"name\":\"nrows\"},{\"default\":true,\"kind\":null,\"name\":\"allow_resize\"},{\"default\":true,\"kind\":null,\"name\":\"allow_drag\"},{\"default\":[],\"kind\":null,\"name\":\"state\"}]},{\"extends\":null,\"module\":null,\"name\":\"click1\",\"overrides\":[],\"properties\":[{\"default\":\"\",\"kind\":null,\"name\":\"terminal_output\"},{\"default\":\"\",\"kind\":null,\"name\":\"debug_name\"},{\"default\":0,\"kind\":null,\"name\":\"clears\"}]},{\"extends\":null,\"module\":null,\"name\":\"NotificationAreaBase1\",\"overrides\":[],\"properties\":[{\"default\":\"bottom-right\",\"kind\":null,\"name\":\"position\"},{\"default\":0,\"kind\":null,\"name\":\"_clear\"}]},{\"extends\":null,\"module\":null,\"name\":\"NotificationArea1\",\"overrides\":[],\"properties\":[{\"default\":[],\"kind\":null,\"name\":\"notifications\"},{\"default\":\"bottom-right\",\"kind\":null,\"name\":\"position\"},{\"default\":0,\"kind\":null,\"name\":\"_clear\"},{\"default\":[{\"background\":\"#ffc107\",\"icon\":{\"className\":\"fas fa-exclamation-triangle\",\"color\":\"white\",\"tagName\":\"i\"},\"type\":\"warning\"},{\"background\":\"#007bff\",\"icon\":{\"className\":\"fas fa-info-circle\",\"color\":\"white\",\"tagName\":\"i\"},\"type\":\"info\"}],\"kind\":null,\"name\":\"types\"}]},{\"extends\":null,\"module\":null,\"name\":\"Notification\",\"overrides\":[],\"properties\":[{\"default\":null,\"kind\":null,\"name\":\"background\"},{\"default\":3000,\"kind\":null,\"name\":\"duration\"},{\"default\":null,\"kind\":null,\"name\":\"icon\"},{\"default\":\"\",\"kind\":null,\"name\":\"message\"},{\"default\":null,\"kind\":null,\"name\":\"notification_type\"},{\"default\":false,\"kind\":null,\"name\":\"_destroyed\"}]},{\"extends\":null,\"module\":null,\"name\":\"TemplateActions1\",\"overrides\":[],\"properties\":[{\"default\":0,\"kind\":null,\"name\":\"open_modal\"},{\"default\":0,\"kind\":null,\"name\":\"close_modal\"}]},{\"extends\":null,\"module\":null,\"name\":\"MaterialTemplateActions1\",\"overrides\":[],\"properties\":[{\"default\":0,\"kind\":null,\"name\":\"open_modal\"},{\"default\":0,\"kind\":null,\"name\":\"close_modal\"}]}],\"roots\":{\"references\":[{\"attributes\":{},\"id\":\"4076\",\"type\":\"WheelZoomTool\"},{\"attributes\":{\"axis_label\":\"Race\",\"coordinates\":null,\"formatter\":{\"id\":\"4097\"},\"group\":null,\"major_label_policy\":{\"id\":\"4098\"},\"ticker\":{\"id\":\"4068\"}},\"id\":\"4067\",\"type\":\"CategoricalAxis\"},{\"attributes\":{\"margin\":[5,5,5,5],\"name\":\"HSpacer04387\",\"sizing_mode\":\"stretch_width\"},\"id\":\"4112\",\"type\":\"Spacer\"},{\"attributes\":{\"overlay\":{\"id\":\"4079\"}},\"id\":\"4077\",\"type\":\"BoxZoomTool\"},{\"attributes\":{\"bottom\":{\"value\":0},\"fill_alpha\":{\"value\":1.0},\"fill_color\":{\"value\":\"#30a2da\"},\"hatch_alpha\":{\"value\":1.0},\"hatch_color\":{\"value\":\"#30a2da\"},\"hatch_scale\":{\"value\":12.0},\"hatch_weight\":{\"value\":1.0},\"line_alpha\":{\"value\":1.0},\"line_cap\":{\"value\":\"butt\"},\"line_color\":{\"value\":\"black\"},\"line_dash\":{\"value\":[]},\"line_dash_offset\":{\"value\":0},\"line_join\":{\"value\":\"bevel\"},\"line_width\":{\"value\":1},\"top\":{\"field\":\"A_35_comma_000_to_49_comma_999\"},\"width\":{\"value\":0.8},\"x\":{\"field\":\"Race\"}},\"id\":\"4095\",\"type\":\"VBar\"},{\"attributes\":{\"coordinates\":null,\"group\":null,\"text\":\"35,000 to 49,999\",\"text_color\":\"black\",\"text_font_size\":\"12pt\"},\"id\":\"4059\",\"type\":\"Title\"},{\"attributes\":{},\"id\":\"4063\",\"type\":\"CategoricalScale\"},{\"attributes\":{},\"id\":\"4100\",\"type\":\"BasicTickFormatter\"},{\"attributes\":{\"axis\":{\"id\":\"4067\"},\"coordinates\":null,\"grid_line_color\":null,\"group\":null,\"ticker\":null},\"id\":\"4069\",\"type\":\"Grid\"},{\"attributes\":{},\"id\":\"4101\",\"type\":\"AllLabels\"},{\"attributes\":{},\"id\":\"4097\",\"type\":\"CategoricalTickFormatter\"},{\"attributes\":{},\"id\":\"4109\",\"type\":\"UnionRenderers\"},{\"attributes\":{},\"id\":\"4065\",\"type\":\"LinearScale\"},{\"attributes\":{},\"id\":\"4098\",\"type\":\"AllLabels\"},{\"attributes\":{\"factors\":[\"ALL RACES\",\"WHITE ALONE\",\"WHITE ALONE, NOT HISPANIC\",\"BLACK ALONE OR IN COMBINATION\",\"BLACK ALONE\",\"ASIAN ALONE OR IN COMBINATION\",\"ASIAN ALONE\",\"AMERICAN INDIAN AND ALASKA NATIVE ALONE OR IN COMBINATION\",\"AMERICAN INDIAN AND ALASKA NATIVE ALONE\",\"TWO OR MORE RACES\",\"HISPANIC (ANY RACE)\"],\"tags\":[[[\"Race\",\"Race\",null]]]},\"id\":\"4055\",\"type\":\"FactorRange\"},{\"attributes\":{},\"id\":\"4071\",\"type\":\"BasicTicker\"},{\"attributes\":{},\"id\":\"4068\",\"type\":\"CategoricalTicker\"},{\"attributes\":{},\"id\":\"4088\",\"type\":\"Selection\"},{\"attributes\":{\"end\":14.63,\"reset_end\":14.63,\"reset_start\":0.0,\"tags\":[[[\"35,000 to 49,999\",\"35,000 to 49,999\",null]]]},\"id\":\"4056\",\"type\":\"Range1d\"},{\"attributes\":{\"axis_label\":\"Percent of Population\",\"coordinates\":null,\"formatter\":{\"id\":\"4100\"},\"group\":null,\"major_label_policy\":{\"id\":\"4101\"},\"ticker\":{\"id\":\"4071\"}},\"id\":\"4070\",\"type\":\"LinearAxis\"},{\"attributes\":{\"fill_alpha\":{\"value\":0.2},\"fill_color\":{\"value\":\"#30a2da\"},\"hatch_alpha\":{\"value\":0.2},\"hatch_color\":{\"value\":\"#30a2da\"},\"line_alpha\":{\"value\":0.2},\"top\":{\"field\":\"A_35_comma_000_to_49_comma_999\"},\"width\":{\"value\":0.8},\"x\":{\"field\":\"Race\"}},\"id\":\"4092\",\"type\":\"VBar\"},{\"attributes\":{\"axis\":{\"id\":\"4070\"},\"coordinates\":null,\"dimension\":1,\"grid_line_color\":null,\"group\":null,\"ticker\":null},\"id\":\"4073\",\"type\":\"Grid\"},{\"attributes\":{\"source\":{\"id\":\"4087\"}},\"id\":\"4094\",\"type\":\"CDSView\"},{\"attributes\":{\"margin\":[5,5,5,5],\"name\":\"HSpacer04386\",\"sizing_mode\":\"stretch_width\"},\"id\":\"4054\",\"type\":\"Spacer\"},{\"attributes\":{\"callback\":null,\"renderers\":[{\"id\":\"4093\"}],\"tags\":[\"hv_created\"],\"tooltips\":[[\"Race\",\"@{Race}\"],[\"35,000 to 49,999\",\"@{A_35_comma_000_to_49_comma_999}\"]]},\"id\":\"4057\",\"type\":\"HoverTool\"},{\"attributes\":{\"children\":[{\"id\":\"4054\"},{\"id\":\"4058\"},{\"id\":\"4112\"}],\"margin\":[0,0,0,0],\"name\":\"Row04382\",\"tags\":[\"embedded\"]},\"id\":\"4053\",\"type\":\"Row\"},{\"attributes\":{\"below\":[{\"id\":\"4067\"}],\"center\":[{\"id\":\"4069\"},{\"id\":\"4073\"}],\"height\":300,\"left\":[{\"id\":\"4070\"}],\"margin\":[5,5,5,5],\"min_border_bottom\":10,\"min_border_left\":10,\"min_border_right\":10,\"min_border_top\":10,\"renderers\":[{\"id\":\"4093\"}],\"sizing_mode\":\"fixed\",\"title\":{\"id\":\"4059\"},\"toolbar\":{\"id\":\"4080\"},\"width\":700,\"x_range\":{\"id\":\"4055\"},\"x_scale\":{\"id\":\"4063\"},\"y_range\":{\"id\":\"4056\"},\"y_scale\":{\"id\":\"4065\"}},\"id\":\"4058\",\"subtype\":\"Figure\",\"type\":\"Plot\"},{\"attributes\":{\"data\":{\"A_35_comma_000_to_49_comma_999\":{\"__ndarray__\":\"zczMzMzMJUCamZmZmZklQGZmZmZmZiRAAAAAAAAAK0DNzMzMzMwqQM3MzMzMzBpAZmZmZmZmGkDNzMzMzMwoQM3MzMzMzClAAAAAAAAAJ0DNzMzMzMwrQA==\",\"dtype\":\"float64\",\"order\":\"little\",\"shape\":[11]},\"Race\":[\"ALL RACES\",\"WHITE ALONE\",\"WHITE ALONE, NOT HISPANIC\",\"BLACK ALONE OR IN COMBINATION\",\"BLACK ALONE\",\"ASIAN ALONE OR IN COMBINATION\",\"ASIAN ALONE\",\"AMERICAN INDIAN AND ALASKA NATIVE ALONE OR IN COMBINATION\",\"AMERICAN INDIAN AND ALASKA NATIVE ALONE\",\"TWO OR MORE RACES\",\"HISPANIC (ANY RACE)\"]},\"selected\":{\"id\":\"4088\"},\"selection_policy\":{\"id\":\"4109\"}},\"id\":\"4087\",\"type\":\"ColumnDataSource\"},{\"attributes\":{\"coordinates\":null,\"data_source\":{\"id\":\"4087\"},\"glyph\":{\"id\":\"4090\"},\"group\":null,\"hover_glyph\":null,\"muted_glyph\":{\"id\":\"4092\"},\"nonselection_glyph\":{\"id\":\"4091\"},\"selection_glyph\":{\"id\":\"4095\"},\"view\":{\"id\":\"4094\"}},\"id\":\"4093\",\"type\":\"GlyphRenderer\"},{\"attributes\":{\"fill_alpha\":{\"value\":0.1},\"fill_color\":{\"value\":\"#30a2da\"},\"hatch_alpha\":{\"value\":0.1},\"hatch_color\":{\"value\":\"#30a2da\"},\"line_alpha\":{\"value\":0.1},\"top\":{\"field\":\"A_35_comma_000_to_49_comma_999\"},\"width\":{\"value\":0.8},\"x\":{\"field\":\"Race\"}},\"id\":\"4091\",\"type\":\"VBar\"},{\"attributes\":{\"tools\":[{\"id\":\"4057\"},{\"id\":\"4074\"},{\"id\":\"4075\"},{\"id\":\"4076\"},{\"id\":\"4077\"},{\"id\":\"4078\"}]},\"id\":\"4080\",\"type\":\"Toolbar\"},{\"attributes\":{\"fill_color\":{\"value\":\"#30a2da\"},\"hatch_color\":{\"value\":\"#30a2da\"},\"top\":{\"field\":\"A_35_comma_000_to_49_comma_999\"},\"width\":{\"value\":0.8},\"x\":{\"field\":\"Race\"}},\"id\":\"4090\",\"type\":\"VBar\"},{\"attributes\":{\"bottom_units\":\"screen\",\"coordinates\":null,\"fill_alpha\":0.5,\"fill_color\":\"lightgrey\",\"group\":null,\"left_units\":\"screen\",\"level\":\"overlay\",\"line_alpha\":1.0,\"line_color\":\"black\",\"line_dash\":[4,4],\"line_width\":2,\"right_units\":\"screen\",\"syncable\":false,\"top_units\":\"screen\"},\"id\":\"4079\",\"type\":\"BoxAnnotation\"},{\"attributes\":{},\"id\":\"4074\",\"type\":\"SaveTool\"},{\"attributes\":{},\"id\":\"4075\",\"type\":\"PanTool\"},{\"attributes\":{},\"id\":\"4078\",\"type\":\"ResetTool\"}],\"root_ids\":[\"4053\"]},\"title\":\"Bokeh Application\",\"version\":\"2.4.3\"}};\n",
       "    var render_items = [{\"docid\":\"d4ee359f-b62b-4426-b0ab-b5f6b1345345\",\"root_ids\":[\"4053\"],\"roots\":{\"4053\":\"7692a38b-3c49-496c-a649-15ce53f9e3bd\"}}];\n",
       "    root.Bokeh.embed.embed_items_notebook(docs_json, render_items);\n",
       "  }\n",
       "  if (root.Bokeh !== undefined && root.Bokeh.Panel !== undefined) {\n",
       "    embed_document(root);\n",
       "  } else {\n",
       "    var attempts = 0;\n",
       "    var timer = setInterval(function(root) {\n",
       "      if (root.Bokeh !== undefined && root.Bokeh.Panel !== undefined) {\n",
       "        clearInterval(timer);\n",
       "        embed_document(root);\n",
       "      } else if (document.readyState == \"complete\") {\n",
       "        attempts++;\n",
       "        if (attempts > 200) {\n",
       "          clearInterval(timer);\n",
       "          console.log(\"Bokeh: ERROR: Unable to run BokehJS code because BokehJS library is missing\");\n",
       "        }\n",
       "      }\n",
       "    }, 25, root)\n",
       "  }\n",
       "})(window);</script>"
      ],
      "text/plain": [
       ":Bars   [Race]   (35,000 to 49,999)"
      ]
     },
     "execution_count": 95,
     "metadata": {
      "application/vnd.holoviews_exec.v0+json": {
       "id": "4053"
      }
     },
     "output_type": "execute_result"
    }
   ],
   "source": [
    "income_35k_49K.hvplot.bar(ylabel='Percent of Population')"
   ]
  },
  {
   "cell_type": "code",
   "execution_count": 22,
   "id": "2240b21e-e303-46e9-9286-211ba98dcdc8",
   "metadata": {},
   "outputs": [],
   "source": [
    "#Drop Extraneous Columns\n",
    "\n",
    "#0413\n",
    "income_by_age_df = income_by_age_df.drop(columns=['Number (thousands)', 'Margin of error', 'Number (thousands)2', 'Margin of error2', 'Percent change', 'margin of error3'])"
   ]
  },
  {
   "cell_type": "code",
   "execution_count": 23,
   "id": "d74a352f-9aa5-4e5c-b195-cd11fc3c4be5",
   "metadata": {},
   "outputs": [
    {
     "data": {
      "text/html": [
       "<div>\n",
       "<style scoped>\n",
       "    .dataframe tbody tr th:only-of-type {\n",
       "        vertical-align: middle;\n",
       "    }\n",
       "\n",
       "    .dataframe tbody tr th {\n",
       "        vertical-align: top;\n",
       "    }\n",
       "\n",
       "    .dataframe thead th {\n",
       "        text-align: right;\n",
       "    }\n",
       "</style>\n",
       "<table border=\"1\" class=\"dataframe\">\n",
       "  <thead>\n",
       "    <tr style=\"text-align: right;\">\n",
       "      <th></th>\n",
       "      <th>2020 Median Estimate</th>\n",
       "      <th>2021 Median Estimate</th>\n",
       "    </tr>\n",
       "    <tr>\n",
       "      <th>Age of Householder</th>\n",
       "      <th></th>\n",
       "      <th></th>\n",
       "    </tr>\n",
       "  </thead>\n",
       "  <tbody>\n",
       "    <tr>\n",
       "      <th>...15 to 24 years</th>\n",
       "      <td>49,094</td>\n",
       "      <td>51,645</td>\n",
       "    </tr>\n",
       "    <tr>\n",
       "      <th>...25 to 34 years</th>\n",
       "      <td>74,958</td>\n",
       "      <td>74,862</td>\n",
       "    </tr>\n",
       "    <tr>\n",
       "      <th>...35 to 44 years</th>\n",
       "      <td>89,711</td>\n",
       "      <td>90,312</td>\n",
       "    </tr>\n",
       "    <tr>\n",
       "      <th>...45 to 54 years</th>\n",
       "      <td>94,633</td>\n",
       "      <td>97,089</td>\n",
       "    </tr>\n",
       "    <tr>\n",
       "      <th>...55 to 64 years</th>\n",
       "      <td>77,872</td>\n",
       "      <td>75,842</td>\n",
       "    </tr>\n",
       "  </tbody>\n",
       "</table>\n",
       "</div>"
      ],
      "text/plain": [
       "                   2020 Median Estimate 2021 Median Estimate\n",
       "Age of Householder                                          \n",
       "...15 to 24 years                49,094               51,645\n",
       "...25 to 34 years                74,958               74,862\n",
       "...35 to 44 years                89,711               90,312\n",
       "...45 to 54 years                94,633               97,089\n",
       "...55 to 64 years                77,872               75,842"
      ]
     },
     "execution_count": 23,
     "metadata": {},
     "output_type": "execute_result"
    }
   ],
   "source": [
    "#Set the index \n",
    "income_by_age_df = income_by_age_df.set_index(income_by_age_df['Age of Householder'])\n",
    "income_by_age_df.drop(columns='Age of Householder', inplace=True)\n",
    "income_by_age_df.drop(labels=['Under 65 years'], axis=0, inplace=True)\n",
    "income_by_age_df.head()"
   ]
  },
  {
   "cell_type": "code",
   "execution_count": 26,
   "id": "517bfebb-39a1-4943-93e5-3c28930e9db0",
   "metadata": {},
   "outputs": [
    {
     "ename": "IndexError",
     "evalue": "list index out of range",
     "output_type": "error",
     "traceback": [
      "\u001b[1;31m---------------------------------------------------------------------------\u001b[0m",
      "\u001b[1;31mIndexError\u001b[0m                                Traceback (most recent call last)",
      "\u001b[1;32m~\\AppData\\Local\\Temp\\ipykernel_13548\\1082951055.py\u001b[0m in \u001b[0;36m<module>\u001b[1;34m\u001b[0m\n\u001b[1;32m----> 1\u001b[1;33m \u001b[0mincome_by_age_df\u001b[0m\u001b[1;33m.\u001b[0m\u001b[0mhvplot\u001b[0m\u001b[1;33m.\u001b[0m\u001b[0mheatmap\u001b[0m\u001b[1;33m(\u001b[0m\u001b[0mx\u001b[0m\u001b[1;33m=\u001b[0m\u001b[1;34m'2020 Median Estimate'\u001b[0m\u001b[1;33m,\u001b[0m \u001b[0my\u001b[0m\u001b[1;33m=\u001b[0m\u001b[1;34m'2021 Median Estimate'\u001b[0m\u001b[1;33m)\u001b[0m\u001b[1;33m\u001b[0m\u001b[1;33m\u001b[0m\u001b[0m\n\u001b[0m",
      "\u001b[1;32m~\\anaconda3\\envs\\alpacaenv\\lib\\site-packages\\hvplot\\plotting\\core.py\u001b[0m in \u001b[0;36mheatmap\u001b[1;34m(self, x, y, C, colorbar, **kwds)\u001b[0m\n\u001b[0;32m    289\u001b[0m             \u001b[0mThe\u001b[0m \u001b[0mHoloViews\u001b[0m \u001b[0mrepresentation\u001b[0m \u001b[0mof\u001b[0m \u001b[0mthe\u001b[0m \u001b[0mplot\u001b[0m\u001b[1;33m.\u001b[0m\u001b[1;33m\u001b[0m\u001b[1;33m\u001b[0m\u001b[0m\n\u001b[0;32m    290\u001b[0m         \"\"\"\n\u001b[1;32m--> 291\u001b[1;33m         \u001b[1;32mreturn\u001b[0m \u001b[0mself\u001b[0m\u001b[1;33m(\u001b[0m\u001b[0mx\u001b[0m\u001b[1;33m,\u001b[0m \u001b[0my\u001b[0m\u001b[1;33m,\u001b[0m \u001b[0mkind\u001b[0m\u001b[1;33m=\u001b[0m\u001b[1;34m'heatmap'\u001b[0m\u001b[1;33m,\u001b[0m \u001b[0mC\u001b[0m\u001b[1;33m=\u001b[0m\u001b[0mC\u001b[0m\u001b[1;33m,\u001b[0m \u001b[0mcolorbar\u001b[0m\u001b[1;33m=\u001b[0m\u001b[0mcolorbar\u001b[0m\u001b[1;33m,\u001b[0m \u001b[1;33m**\u001b[0m\u001b[0mkwds\u001b[0m\u001b[1;33m)\u001b[0m\u001b[1;33m\u001b[0m\u001b[1;33m\u001b[0m\u001b[0m\n\u001b[0m\u001b[0;32m    292\u001b[0m \u001b[1;33m\u001b[0m\u001b[0m\n\u001b[0;32m    293\u001b[0m     \u001b[1;32mdef\u001b[0m \u001b[0mhexbin\u001b[0m\u001b[1;33m(\u001b[0m\u001b[0mself\u001b[0m\u001b[1;33m,\u001b[0m \u001b[0mx\u001b[0m\u001b[1;33m=\u001b[0m\u001b[1;32mNone\u001b[0m\u001b[1;33m,\u001b[0m \u001b[0my\u001b[0m\u001b[1;33m=\u001b[0m\u001b[1;32mNone\u001b[0m\u001b[1;33m,\u001b[0m \u001b[0mC\u001b[0m\u001b[1;33m=\u001b[0m\u001b[1;32mNone\u001b[0m\u001b[1;33m,\u001b[0m \u001b[0mcolorbar\u001b[0m\u001b[1;33m=\u001b[0m\u001b[1;32mTrue\u001b[0m\u001b[1;33m,\u001b[0m \u001b[1;33m**\u001b[0m\u001b[0mkwds\u001b[0m\u001b[1;33m)\u001b[0m\u001b[1;33m:\u001b[0m\u001b[1;33m\u001b[0m\u001b[1;33m\u001b[0m\u001b[0m\n",
      "\u001b[1;32m~\\anaconda3\\envs\\alpacaenv\\lib\\site-packages\\hvplot\\plotting\\core.py\u001b[0m in \u001b[0;36m__call__\u001b[1;34m(self, x, y, kind, **kwds)\u001b[0m\n\u001b[0;32m     80\u001b[0m                 \u001b[1;32mreturn\u001b[0m \u001b[0mpn\u001b[0m\u001b[1;33m.\u001b[0m\u001b[0mpanel\u001b[0m\u001b[1;33m(\u001b[0m\u001b[0mplot\u001b[0m\u001b[1;33m,\u001b[0m \u001b[1;33m**\u001b[0m\u001b[0mpanel_dict\u001b[0m\u001b[1;33m)\u001b[0m\u001b[1;33m\u001b[0m\u001b[1;33m\u001b[0m\u001b[0m\n\u001b[0;32m     81\u001b[0m \u001b[1;33m\u001b[0m\u001b[0m\n\u001b[1;32m---> 82\u001b[1;33m         \u001b[1;32mreturn\u001b[0m \u001b[0mself\u001b[0m\u001b[1;33m.\u001b[0m\u001b[0m_get_converter\u001b[0m\u001b[1;33m(\u001b[0m\u001b[0mx\u001b[0m\u001b[1;33m,\u001b[0m \u001b[0my\u001b[0m\u001b[1;33m,\u001b[0m \u001b[0mkind\u001b[0m\u001b[1;33m,\u001b[0m \u001b[1;33m**\u001b[0m\u001b[0mkwds\u001b[0m\u001b[1;33m)\u001b[0m\u001b[1;33m(\u001b[0m\u001b[0mkind\u001b[0m\u001b[1;33m,\u001b[0m \u001b[0mx\u001b[0m\u001b[1;33m,\u001b[0m \u001b[0my\u001b[0m\u001b[1;33m)\u001b[0m\u001b[1;33m\u001b[0m\u001b[1;33m\u001b[0m\u001b[0m\n\u001b[0m\u001b[0;32m     83\u001b[0m \u001b[1;33m\u001b[0m\u001b[0m\n\u001b[0;32m     84\u001b[0m     \u001b[1;32mdef\u001b[0m \u001b[0m_get_converter\u001b[0m\u001b[1;33m(\u001b[0m\u001b[0mself\u001b[0m\u001b[1;33m,\u001b[0m \u001b[0mx\u001b[0m\u001b[1;33m=\u001b[0m\u001b[1;32mNone\u001b[0m\u001b[1;33m,\u001b[0m \u001b[0my\u001b[0m\u001b[1;33m=\u001b[0m\u001b[1;32mNone\u001b[0m\u001b[1;33m,\u001b[0m \u001b[0mkind\u001b[0m\u001b[1;33m=\u001b[0m\u001b[1;32mNone\u001b[0m\u001b[1;33m,\u001b[0m \u001b[1;33m**\u001b[0m\u001b[0mkwds\u001b[0m\u001b[1;33m)\u001b[0m\u001b[1;33m:\u001b[0m\u001b[1;33m\u001b[0m\u001b[1;33m\u001b[0m\u001b[0m\n",
      "\u001b[1;32m~\\anaconda3\\envs\\alpacaenv\\lib\\site-packages\\hvplot\\converter.py\u001b[0m in \u001b[0;36m__call__\u001b[1;34m(self, kind, x, y)\u001b[0m\n\u001b[0;32m   1213\u001b[0m                         \u001b[0mdataset\u001b[0m \u001b[1;33m=\u001b[0m \u001b[0mDataset\u001b[0m\u001b[1;33m(\u001b[0m\u001b[0mdata\u001b[0m\u001b[1;33m)\u001b[0m\u001b[1;33m\u001b[0m\u001b[1;33m\u001b[0m\u001b[0m\n\u001b[0;32m   1214\u001b[0m                     \u001b[0mdataset\u001b[0m \u001b[1;33m=\u001b[0m \u001b[0mdataset\u001b[0m\u001b[1;33m.\u001b[0m\u001b[0mredim\u001b[0m\u001b[1;33m(\u001b[0m\u001b[1;33m**\u001b[0m\u001b[0mself\u001b[0m\u001b[1;33m.\u001b[0m\u001b[0m_redim\u001b[0m\u001b[1;33m)\u001b[0m\u001b[1;33m\u001b[0m\u001b[1;33m\u001b[0m\u001b[0m\n\u001b[1;32m-> 1215\u001b[1;33m                 \u001b[0mobj\u001b[0m \u001b[1;33m=\u001b[0m \u001b[0mmethod\u001b[0m\u001b[1;33m(\u001b[0m\u001b[0mx\u001b[0m\u001b[1;33m,\u001b[0m \u001b[0my\u001b[0m\u001b[1;33m)\u001b[0m\u001b[1;33m\u001b[0m\u001b[1;33m\u001b[0m\u001b[0m\n\u001b[0m\u001b[0;32m   1216\u001b[0m                 \u001b[0mobj\u001b[0m\u001b[1;33m.\u001b[0m\u001b[0m_dataset\u001b[0m \u001b[1;33m=\u001b[0m \u001b[0mdataset\u001b[0m\u001b[1;33m\u001b[0m\u001b[1;33m\u001b[0m\u001b[0m\n\u001b[0;32m   1217\u001b[0m \u001b[1;33m\u001b[0m\u001b[0m\n",
      "\u001b[1;32m~\\anaconda3\\envs\\alpacaenv\\lib\\site-packages\\hvplot\\converter.py\u001b[0m in \u001b[0;36mheatmap\u001b[1;34m(self, x, y, data)\u001b[0m\n\u001b[0;32m   1888\u001b[0m             \u001b[0mz\u001b[0m \u001b[1;33m=\u001b[0m \u001b[1;33m[\u001b[0m\u001b[1;34m'value'\u001b[0m\u001b[1;33m]\u001b[0m\u001b[1;33m\u001b[0m\u001b[1;33m\u001b[0m\u001b[0m\n\u001b[0;32m   1889\u001b[0m         \u001b[1;32melse\u001b[0m\u001b[1;33m:\u001b[0m\u001b[1;33m\u001b[0m\u001b[1;33m\u001b[0m\u001b[0m\n\u001b[1;32m-> 1890\u001b[1;33m             \u001b[0mz\u001b[0m \u001b[1;33m=\u001b[0m \u001b[0mself\u001b[0m\u001b[1;33m.\u001b[0m\u001b[0mkwds\u001b[0m\u001b[1;33m.\u001b[0m\u001b[0mget\u001b[0m\u001b[1;33m(\u001b[0m\u001b[1;34m'C'\u001b[0m\u001b[1;33m,\u001b[0m \u001b[1;33m[\u001b[0m\u001b[0mc\u001b[0m \u001b[1;32mfor\u001b[0m \u001b[0mc\u001b[0m \u001b[1;32min\u001b[0m \u001b[0mdata\u001b[0m\u001b[1;33m.\u001b[0m\u001b[0mcolumns\u001b[0m \u001b[1;32mif\u001b[0m \u001b[0mc\u001b[0m \u001b[1;32mnot\u001b[0m \u001b[1;32min\u001b[0m \u001b[1;33m(\u001b[0m\u001b[0mx\u001b[0m\u001b[1;33m,\u001b[0m \u001b[0my\u001b[0m\u001b[1;33m)\u001b[0m\u001b[1;33m]\u001b[0m\u001b[1;33m[\u001b[0m\u001b[1;36m0\u001b[0m\u001b[1;33m]\u001b[0m\u001b[1;33m)\u001b[0m\u001b[1;33m\u001b[0m\u001b[1;33m\u001b[0m\u001b[0m\n\u001b[0m\u001b[0;32m   1891\u001b[0m             \u001b[0mz\u001b[0m \u001b[1;33m=\u001b[0m \u001b[1;33m[\u001b[0m\u001b[0mz\u001b[0m\u001b[1;33m]\u001b[0m \u001b[1;33m+\u001b[0m \u001b[0mself\u001b[0m\u001b[1;33m.\u001b[0m\u001b[0mhover_cols\u001b[0m\u001b[1;33m\u001b[0m\u001b[1;33m\u001b[0m\u001b[0m\n\u001b[0;32m   1892\u001b[0m             \u001b[0mself\u001b[0m\u001b[1;33m.\u001b[0m\u001b[0muse_index\u001b[0m \u001b[1;33m=\u001b[0m \u001b[1;32mFalse\u001b[0m\u001b[1;33m\u001b[0m\u001b[1;33m\u001b[0m\u001b[0m\n",
      "\u001b[1;31mIndexError\u001b[0m: list index out of range"
     ]
    }
   ],
   "source": [
    "income_by_age_df.hvplot.area(x='2020 Median Estimate', y='2021 Median Estimate')"
   ]
  },
  {
   "cell_type": "code",
   "execution_count": 28,
   "id": "b8624692-967c-40de-8e90-879800ff4699",
   "metadata": {},
   "outputs": [
    {
     "data": {
      "text/plain": [
       "2020 Median Estimate    object\n",
       "2021 Median Estimate    object\n",
       "dtype: object"
      ]
     },
     "execution_count": 28,
     "metadata": {},
     "output_type": "execute_result"
    }
   ],
   "source": [
    "income_by_age_df.dtypes"
   ]
  },
  {
   "cell_type": "code",
   "execution_count": 30,
   "id": "9268b02e-dc56-4571-a4fb-d9f079034d8c",
   "metadata": {},
   "outputs": [],
   "source": [
    "income_by_age_copy = income_by_age_df.copy()\n",
    "income_by_age_copy = income_by_age_copy.astype({'2020 Median Estimate':'int64', '2021 Median Estimate':'int64'}, errors='ignore')"
   ]
  },
  {
   "cell_type": "code",
   "execution_count": 33,
   "id": "0995dcc5-7835-4f00-9220-8f4490b381a7",
   "metadata": {},
   "outputs": [
    {
     "data": {},
     "metadata": {},
     "output_type": "display_data"
    },
    {
     "data": {
      "application/vnd.holoviews_exec.v0+json": "",
      "text/html": [
       "<div id='1374'>\n",
       "  <div class=\"bk-root\" id=\"730cb39c-5824-4b13-a593-0782512467da\" data-root-id=\"1374\"></div>\n",
       "</div>\n",
       "<script type=\"application/javascript\">(function(root) {\n",
       "  function embed_document(root) {\n",
       "    var docs_json = {\"8bbe3df7-49a3-4c42-ae71-625e0f43bfd2\":{\"defs\":[{\"extends\":null,\"module\":null,\"name\":\"ReactiveHTML1\",\"overrides\":[],\"properties\":[]},{\"extends\":null,\"module\":null,\"name\":\"FlexBox1\",\"overrides\":[],\"properties\":[{\"default\":\"flex-start\",\"kind\":null,\"name\":\"align_content\"},{\"default\":\"flex-start\",\"kind\":null,\"name\":\"align_items\"},{\"default\":\"row\",\"kind\":null,\"name\":\"flex_direction\"},{\"default\":\"wrap\",\"kind\":null,\"name\":\"flex_wrap\"},{\"default\":\"flex-start\",\"kind\":null,\"name\":\"justify_content\"}]},{\"extends\":null,\"module\":null,\"name\":\"GridStack1\",\"overrides\":[],\"properties\":[{\"default\":\"warn\",\"kind\":null,\"name\":\"mode\"},{\"default\":null,\"kind\":null,\"name\":\"ncols\"},{\"default\":null,\"kind\":null,\"name\":\"nrows\"},{\"default\":true,\"kind\":null,\"name\":\"allow_resize\"},{\"default\":true,\"kind\":null,\"name\":\"allow_drag\"},{\"default\":[],\"kind\":null,\"name\":\"state\"}]},{\"extends\":null,\"module\":null,\"name\":\"click1\",\"overrides\":[],\"properties\":[{\"default\":\"\",\"kind\":null,\"name\":\"terminal_output\"},{\"default\":\"\",\"kind\":null,\"name\":\"debug_name\"},{\"default\":0,\"kind\":null,\"name\":\"clears\"}]},{\"extends\":null,\"module\":null,\"name\":\"NotificationAreaBase1\",\"overrides\":[],\"properties\":[{\"default\":\"bottom-right\",\"kind\":null,\"name\":\"position\"},{\"default\":0,\"kind\":null,\"name\":\"_clear\"}]},{\"extends\":null,\"module\":null,\"name\":\"NotificationArea1\",\"overrides\":[],\"properties\":[{\"default\":[],\"kind\":null,\"name\":\"notifications\"},{\"default\":\"bottom-right\",\"kind\":null,\"name\":\"position\"},{\"default\":0,\"kind\":null,\"name\":\"_clear\"},{\"default\":[{\"background\":\"#ffc107\",\"icon\":{\"className\":\"fas fa-exclamation-triangle\",\"color\":\"white\",\"tagName\":\"i\"},\"type\":\"warning\"},{\"background\":\"#007bff\",\"icon\":{\"className\":\"fas fa-info-circle\",\"color\":\"white\",\"tagName\":\"i\"},\"type\":\"info\"}],\"kind\":null,\"name\":\"types\"}]},{\"extends\":null,\"module\":null,\"name\":\"Notification\",\"overrides\":[],\"properties\":[{\"default\":null,\"kind\":null,\"name\":\"background\"},{\"default\":3000,\"kind\":null,\"name\":\"duration\"},{\"default\":null,\"kind\":null,\"name\":\"icon\"},{\"default\":\"\",\"kind\":null,\"name\":\"message\"},{\"default\":null,\"kind\":null,\"name\":\"notification_type\"},{\"default\":false,\"kind\":null,\"name\":\"_destroyed\"}]},{\"extends\":null,\"module\":null,\"name\":\"TemplateActions1\",\"overrides\":[],\"properties\":[{\"default\":0,\"kind\":null,\"name\":\"open_modal\"},{\"default\":0,\"kind\":null,\"name\":\"close_modal\"}]},{\"extends\":null,\"module\":null,\"name\":\"MaterialTemplateActions1\",\"overrides\":[],\"properties\":[{\"default\":0,\"kind\":null,\"name\":\"open_modal\"},{\"default\":0,\"kind\":null,\"name\":\"close_modal\"}]}],\"roots\":{\"references\":[{\"attributes\":{\"below\":[{\"id\":\"1388\"}],\"center\":[{\"id\":\"1390\"},{\"id\":\"1393\"}],\"height\":300,\"left\":[{\"id\":\"1391\"}],\"margin\":[5,5,5,5],\"min_border_bottom\":10,\"min_border_left\":10,\"min_border_right\":10,\"min_border_top\":10,\"renderers\":[{\"id\":\"1413\"}],\"sizing_mode\":\"fixed\",\"title\":{\"id\":\"1380\"},\"toolbar\":{\"id\":\"1400\"},\"width\":700,\"x_range\":{\"id\":\"1376\"},\"x_scale\":{\"id\":\"1384\"},\"y_range\":{\"id\":\"1377\"},\"y_scale\":{\"id\":\"1386\"}},\"id\":\"1379\",\"subtype\":\"Figure\",\"type\":\"Plot\"},{\"attributes\":{\"angle\":{\"value\":0.0},\"fill_alpha\":{\"value\":1.0},\"fill_color\":{\"value\":\"#30a2da\"},\"hatch_alpha\":{\"value\":1.0},\"hatch_color\":{\"value\":\"#30a2da\"},\"hatch_scale\":{\"value\":12.0},\"hatch_weight\":{\"value\":1.0},\"line_alpha\":{\"value\":1.0},\"line_cap\":{\"value\":\"butt\"},\"line_color\":{\"value\":\"#30a2da\"},\"line_dash\":{\"value\":[]},\"line_dash_offset\":{\"value\":0},\"line_join\":{\"value\":\"bevel\"},\"line_width\":{\"value\":1},\"marker\":{\"value\":\"circle\"},\"size\":{\"value\":5.477225575051661},\"x\":{\"field\":\"Age of Householder\"},\"y\":{\"field\":\"2021 Median Estimate\"}},\"id\":\"1415\",\"type\":\"Scatter\"},{\"attributes\":{\"fill_alpha\":{\"value\":0.2},\"fill_color\":{\"value\":\"#30a2da\"},\"hatch_alpha\":{\"value\":0.2},\"hatch_color\":{\"value\":\"#30a2da\"},\"line_alpha\":{\"value\":0.2},\"line_color\":{\"value\":\"#30a2da\"},\"size\":{\"value\":5.477225575051661},\"x\":{\"field\":\"Age of Householder\"},\"y\":{\"field\":\"2021 Median Estimate\"}},\"id\":\"1412\",\"type\":\"Scatter\"},{\"attributes\":{},\"id\":\"1420\",\"type\":\"CategoricalTickFormatter\"},{\"attributes\":{},\"id\":\"1429\",\"type\":\"UnionRenderers\"},{\"attributes\":{\"tools\":[{\"id\":\"1378\"},{\"id\":\"1394\"},{\"id\":\"1395\"},{\"id\":\"1396\"},{\"id\":\"1397\"},{\"id\":\"1398\"}]},\"id\":\"1400\",\"type\":\"Toolbar\"},{\"attributes\":{\"callback\":null,\"renderers\":[{\"id\":\"1413\"}],\"tags\":[\"hv_created\"],\"tooltips\":[[\"Age of Householder\",\"@{Age_of_Householder}\"],[\"2021 Median Estimate\",\"@{A_2021_Median_Estimate}\"]]},\"id\":\"1378\",\"type\":\"HoverTool\"},{\"attributes\":{},\"id\":\"1408\",\"type\":\"Selection\"},{\"attributes\":{},\"id\":\"1394\",\"type\":\"SaveTool\"},{\"attributes\":{},\"id\":\"1395\",\"type\":\"PanTool\"},{\"attributes\":{},\"id\":\"1398\",\"type\":\"ResetTool\"},{\"attributes\":{},\"id\":\"1396\",\"type\":\"WheelZoomTool\"},{\"attributes\":{\"coordinates\":null,\"group\":null,\"text\":\"2021 Median Estimate\",\"text_color\":\"black\",\"text_font_size\":\"12pt\"},\"id\":\"1380\",\"type\":\"Title\"},{\"attributes\":{\"coordinates\":null,\"data_source\":{\"id\":\"1407\"},\"glyph\":{\"id\":\"1410\"},\"group\":null,\"hover_glyph\":null,\"muted_glyph\":{\"id\":\"1412\"},\"nonselection_glyph\":{\"id\":\"1411\"},\"selection_glyph\":{\"id\":\"1415\"},\"view\":{\"id\":\"1414\"}},\"id\":\"1413\",\"type\":\"GlyphRenderer\"},{\"attributes\":{\"overlay\":{\"id\":\"1399\"}},\"id\":\"1397\",\"type\":\"BoxZoomTool\"},{\"attributes\":{\"axis\":{\"id\":\"1388\"},\"coordinates\":null,\"grid_line_color\":null,\"group\":null,\"ticker\":null},\"id\":\"1390\",\"type\":\"Grid\"},{\"attributes\":{\"axis_label\":\"Age of Householder\",\"coordinates\":null,\"formatter\":{\"id\":\"1417\"},\"group\":null,\"major_label_policy\":{\"id\":\"1418\"},\"ticker\":{\"id\":\"1389\"}},\"id\":\"1388\",\"type\":\"CategoricalAxis\"},{\"attributes\":{\"fill_alpha\":{\"value\":0.1},\"fill_color\":{\"value\":\"#30a2da\"},\"hatch_alpha\":{\"value\":0.1},\"hatch_color\":{\"value\":\"#30a2da\"},\"line_alpha\":{\"value\":0.1},\"line_color\":{\"value\":\"#30a2da\"},\"size\":{\"value\":5.477225575051661},\"x\":{\"field\":\"Age of Householder\"},\"y\":{\"field\":\"2021 Median Estimate\"}},\"id\":\"1411\",\"type\":\"Scatter\"},{\"attributes\":{},\"id\":\"1384\",\"type\":\"CategoricalScale\"},{\"attributes\":{\"children\":[{\"id\":\"1375\"},{\"id\":\"1379\"},{\"id\":\"1432\"}],\"margin\":[0,0,0,0],\"name\":\"Row01475\",\"tags\":[\"embedded\"]},\"id\":\"1374\",\"type\":\"Row\"},{\"attributes\":{\"source\":{\"id\":\"1407\"}},\"id\":\"1414\",\"type\":\"CDSView\"},{\"attributes\":{\"bottom_units\":\"screen\",\"coordinates\":null,\"fill_alpha\":0.5,\"fill_color\":\"lightgrey\",\"group\":null,\"left_units\":\"screen\",\"level\":\"overlay\",\"line_alpha\":1.0,\"line_color\":\"black\",\"line_dash\":[4,4],\"line_width\":2,\"right_units\":\"screen\",\"syncable\":false,\"top_units\":\"screen\"},\"id\":\"1399\",\"type\":\"BoxAnnotation\"},{\"attributes\":{\"margin\":[5,5,5,5],\"name\":\"HSpacer01480\",\"sizing_mode\":\"stretch_width\"},\"id\":\"1432\",\"type\":\"Spacer\"},{\"attributes\":{},\"id\":\"1386\",\"type\":\"CategoricalScale\"},{\"attributes\":{\"axis_label\":\"\",\"coordinates\":null,\"formatter\":{\"id\":\"1420\"},\"group\":null,\"major_label_policy\":{\"id\":\"1421\"},\"ticker\":{\"id\":\"1392\"}},\"id\":\"1391\",\"type\":\"CategoricalAxis\"},{\"attributes\":{\"factors\":[\"...15 to 24 years\",\"...25 to 34 years\",\"...35 to 44 years\",\"...45 to 54 years\",\"...55 to 64 years\",\"65 years and older\"],\"tags\":[[[\"Age of Householder\",\"Age of Householder\",null]]]},\"id\":\"1376\",\"type\":\"FactorRange\"},{\"attributes\":{},\"id\":\"1389\",\"type\":\"CategoricalTicker\"},{\"attributes\":{\"margin\":[5,5,5,5],\"name\":\"HSpacer01479\",\"sizing_mode\":\"stretch_width\"},\"id\":\"1375\",\"type\":\"Spacer\"},{\"attributes\":{\"data\":{\"2021 Median Estimate\":[\"51,645\",\"74,862\",\"90,312\",\"97,089\",\"75,842\",\"47,620\"],\"A_2021_Median_Estimate\":[\"51,645\",\"74,862\",\"90,312\",\"97,089\",\"75,842\",\"47,620\"],\"Age of Householder\":[\"...15 to 24 years\",\"...25 to 34 years\",\"...35 to 44 years\",\"...45 to 54 years\",\"...55 to 64 years\",\"65 years and older\"],\"Age_of_Householder\":[\"...15 to 24 years\",\"...25 to 34 years\",\"...35 to 44 years\",\"...45 to 54 years\",\"...55 to 64 years\",\"65 years and older\"]},\"selected\":{\"id\":\"1408\"},\"selection_policy\":{\"id\":\"1429\"}},\"id\":\"1407\",\"type\":\"ColumnDataSource\"},{\"attributes\":{},\"id\":\"1392\",\"type\":\"CategoricalTicker\"},{\"attributes\":{},\"id\":\"1421\",\"type\":\"AllLabels\"},{\"attributes\":{},\"id\":\"1417\",\"type\":\"CategoricalTickFormatter\"},{\"attributes\":{},\"id\":\"1418\",\"type\":\"AllLabels\"},{\"attributes\":{\"factors\":[\"51,645\",\"74,862\",\"90,312\",\"97,089\",\"75,842\",\"47,620\"],\"tags\":[[[\"2021 Median Estimate\",\"2021 Median Estimate\",null]]]},\"id\":\"1377\",\"type\":\"FactorRange\"},{\"attributes\":{\"axis\":{\"id\":\"1391\"},\"coordinates\":null,\"dimension\":1,\"grid_line_color\":null,\"group\":null,\"ticker\":null},\"id\":\"1393\",\"type\":\"Grid\"},{\"attributes\":{\"fill_color\":{\"value\":\"#30a2da\"},\"hatch_color\":{\"value\":\"#30a2da\"},\"line_color\":{\"value\":\"#30a2da\"},\"size\":{\"value\":5.477225575051661},\"x\":{\"field\":\"Age of Householder\"},\"y\":{\"field\":\"2021 Median Estimate\"}},\"id\":\"1410\",\"type\":\"Scatter\"}],\"root_ids\":[\"1374\"]},\"title\":\"Bokeh Application\",\"version\":\"2.4.3\"}};\n",
       "    var render_items = [{\"docid\":\"8bbe3df7-49a3-4c42-ae71-625e0f43bfd2\",\"root_ids\":[\"1374\"],\"roots\":{\"1374\":\"730cb39c-5824-4b13-a593-0782512467da\"}}];\n",
       "    root.Bokeh.embed.embed_items_notebook(docs_json, render_items);\n",
       "  }\n",
       "  if (root.Bokeh !== undefined && root.Bokeh.Panel !== undefined) {\n",
       "    embed_document(root);\n",
       "  } else {\n",
       "    var attempts = 0;\n",
       "    var timer = setInterval(function(root) {\n",
       "      if (root.Bokeh !== undefined && root.Bokeh.Panel !== undefined) {\n",
       "        clearInterval(timer);\n",
       "        embed_document(root);\n",
       "      } else if (document.readyState == \"complete\") {\n",
       "        attempts++;\n",
       "        if (attempts > 200) {\n",
       "          clearInterval(timer);\n",
       "          console.log(\"Bokeh: ERROR: Unable to run BokehJS code because BokehJS library is missing\");\n",
       "        }\n",
       "      }\n",
       "    }, 25, root)\n",
       "  }\n",
       "})(window);</script>"
      ],
      "text/plain": [
       ":Scatter   [Age of Householder]   (2021 Median Estimate)"
      ]
     },
     "execution_count": 33,
     "metadata": {
      "application/vnd.holoviews_exec.v0+json": {
       "id": "1374"
      }
     },
     "output_type": "execute_result"
    }
   ],
   "source": [
    "income_by_age_copy['2021 Median Estimate'].hvplot.scatter()"
   ]
  },
  {
   "cell_type": "code",
   "execution_count": 32,
   "id": "46b58342-a43d-4274-99dc-18e00a989851",
   "metadata": {},
   "outputs": [
    {
     "data": {
      "text/plain": [
       "2020 Median Estimate    object\n",
       "2021 Median Estimate    object\n",
       "dtype: object"
      ]
     },
     "execution_count": 32,
     "metadata": {},
     "output_type": "execute_result"
    }
   ],
   "source": [
    "income_by_age_copy.dtypes"
   ]
  },
  {
   "cell_type": "code",
   "execution_count": 5,
   "id": "ddffdc58-d504-4f9d-8cba-e76fb03cce43",
   "metadata": {},
   "outputs": [
    {
     "data": {
      "text/html": [
       "<div>\n",
       "<style scoped>\n",
       "    .dataframe tbody tr th:only-of-type {\n",
       "        vertical-align: middle;\n",
       "    }\n",
       "\n",
       "    .dataframe tbody tr th {\n",
       "        vertical-align: top;\n",
       "    }\n",
       "\n",
       "    .dataframe thead th {\n",
       "        text-align: right;\n",
       "    }\n",
       "</style>\n",
       "<table border=\"1\" class=\"dataframe\">\n",
       "  <thead>\n",
       "    <tr style=\"text-align: right;\">\n",
       "      <th></th>\n",
       "      <th>Characteristic</th>\n",
       "      <th>Total</th>\n",
       "      <th>None</th>\n",
       "      <th>1st - 4th grade</th>\n",
       "      <th>5th - 6th grade</th>\n",
       "      <th>7th - 8th grade</th>\n",
       "      <th>9th grade</th>\n",
       "      <th>10th grade</th>\n",
       "      <th>11th grade2</th>\n",
       "      <th>High school graduate3</th>\n",
       "      <th>Some college, no degree</th>\n",
       "      <th>Associate's degree, occupational</th>\n",
       "      <th>Associate's degree, academic</th>\n",
       "      <th>Bachelor's degree</th>\n",
       "      <th>Master's degree</th>\n",
       "      <th>Professional degree</th>\n",
       "      <th>Doctoral degree</th>\n",
       "    </tr>\n",
       "  </thead>\n",
       "  <tbody>\n",
       "    <tr>\n",
       "      <th>1</th>\n",
       "      <td>18 years and over</td>\n",
       "      <td>130,709</td>\n",
       "      <td>380</td>\n",
       "      <td>711</td>\n",
       "      <td>1,390</td>\n",
       "      <td>1,552</td>\n",
       "      <td>1,354</td>\n",
       "      <td>1,558</td>\n",
       "      <td>4,728</td>\n",
       "      <td>35,858</td>\n",
       "      <td>21,647</td>\n",
       "      <td>5,455</td>\n",
       "      <td>8,584</td>\n",
       "      <td>29,782</td>\n",
       "      <td>13,896</td>\n",
       "      <td>1,604</td>\n",
       "      <td>2,209</td>\n",
       "    </tr>\n",
       "    <tr>\n",
       "      <th>2</th>\n",
       "      <td>18 to 24 years</td>\n",
       "      <td>14,413</td>\n",
       "      <td>22</td>\n",
       "      <td>17</td>\n",
       "      <td>22</td>\n",
       "      <td>77</td>\n",
       "      <td>71</td>\n",
       "      <td>212</td>\n",
       "      <td>1,661</td>\n",
       "      <td>4,474</td>\n",
       "      <td>4,746</td>\n",
       "      <td>317</td>\n",
       "      <td>665</td>\n",
       "      <td>1,929</td>\n",
       "      <td>172</td>\n",
       "      <td>20</td>\n",
       "      <td>6</td>\n",
       "    </tr>\n",
       "    <tr>\n",
       "      <th>3</th>\n",
       "      <td>25 years and over</td>\n",
       "      <td>116,296</td>\n",
       "      <td>358</td>\n",
       "      <td>694</td>\n",
       "      <td>1,368</td>\n",
       "      <td>1,475</td>\n",
       "      <td>1,282</td>\n",
       "      <td>1,346</td>\n",
       "      <td>3,067</td>\n",
       "      <td>31,383</td>\n",
       "      <td>16,900</td>\n",
       "      <td>5,138</td>\n",
       "      <td>7,919</td>\n",
       "      <td>27,853</td>\n",
       "      <td>13,725</td>\n",
       "      <td>1,584</td>\n",
       "      <td>2,203</td>\n",
       "    </tr>\n",
       "    <tr>\n",
       "      <th>4</th>\n",
       "      <td>25 to 29 years</td>\n",
       "      <td>10,807</td>\n",
       "      <td>5</td>\n",
       "      <td>9</td>\n",
       "      <td>34</td>\n",
       "      <td>87</td>\n",
       "      <td>55</td>\n",
       "      <td>75</td>\n",
       "      <td>251</td>\n",
       "      <td>2,720</td>\n",
       "      <td>1,649</td>\n",
       "      <td>459</td>\n",
       "      <td>695</td>\n",
       "      <td>3,400</td>\n",
       "      <td>1,121</td>\n",
       "      <td>112</td>\n",
       "      <td>136</td>\n",
       "    </tr>\n",
       "    <tr>\n",
       "      <th>5</th>\n",
       "      <td>30 to 34 years</td>\n",
       "      <td>11,450</td>\n",
       "      <td>15</td>\n",
       "      <td>26</td>\n",
       "      <td>51</td>\n",
       "      <td>89</td>\n",
       "      <td>86</td>\n",
       "      <td>116</td>\n",
       "      <td>312</td>\n",
       "      <td>2,544</td>\n",
       "      <td>1,605</td>\n",
       "      <td>476</td>\n",
       "      <td>856</td>\n",
       "      <td>3,297</td>\n",
       "      <td>1,552</td>\n",
       "      <td>149</td>\n",
       "      <td>276</td>\n",
       "    </tr>\n",
       "  </tbody>\n",
       "</table>\n",
       "</div>"
      ],
      "text/plain": [
       "      Characteristic    Total None 1st - 4th grade 5th - 6th grade  \\\n",
       "1  18 years and over  130,709  380             711           1,390   \n",
       "2     18 to 24 years   14,413   22              17              22   \n",
       "3  25 years and over  116,296  358             694           1,368   \n",
       "4     25 to 29 years   10,807    5               9              34   \n",
       "5     30 to 34 years   11,450   15              26              51   \n",
       "\n",
       "  7th - 8th grade 9th grade 10th grade 11th grade2 High school graduate3  \\\n",
       "1           1,552     1,354      1,558       4,728                35,858   \n",
       "2              77        71        212       1,661                 4,474   \n",
       "3           1,475     1,282      1,346       3,067                31,383   \n",
       "4              87        55         75         251                 2,720   \n",
       "5              89        86        116         312                 2,544   \n",
       "\n",
       "  Some college, no degree Associate's degree, occupational  \\\n",
       "1                  21,647                            5,455   \n",
       "2                   4,746                              317   \n",
       "3                  16,900                            5,138   \n",
       "4                   1,649                              459   \n",
       "5                   1,605                              476   \n",
       "\n",
       "  Associate's degree, academic Bachelor's degree Master's degree  \\\n",
       "1                        8,584            29,782          13,896   \n",
       "2                          665             1,929             172   \n",
       "3                        7,919            27,853          13,725   \n",
       "4                          695             3,400           1,121   \n",
       "5                          856             3,297           1,552   \n",
       "\n",
       "  Professional degree Doctoral degree  \n",
       "1               1,604           2,209  \n",
       "2                  20               6  \n",
       "3               1,584           2,203  \n",
       "4                 112             136  \n",
       "5                 149             276  "
      ]
     },
     "execution_count": 5,
     "metadata": {},
     "output_type": "execute_result"
    }
   ],
   "source": [
    "education_females_df.head()"
   ]
  },
  {
   "cell_type": "code",
   "execution_count": 6,
   "id": "9ea3aa4b-92ce-49de-b2d1-53804c20c954",
   "metadata": {},
   "outputs": [
    {
     "data": {
      "text/html": [
       "<div>\n",
       "<style scoped>\n",
       "    .dataframe tbody tr th:only-of-type {\n",
       "        vertical-align: middle;\n",
       "    }\n",
       "\n",
       "    .dataframe tbody tr th {\n",
       "        vertical-align: top;\n",
       "    }\n",
       "\n",
       "    .dataframe thead th {\n",
       "        text-align: right;\n",
       "    }\n",
       "</style>\n",
       "<table border=\"1\" class=\"dataframe\">\n",
       "  <thead>\n",
       "    <tr style=\"text-align: right;\">\n",
       "      <th></th>\n",
       "      <th>Characteristic</th>\n",
       "      <th>7th - 8th grade</th>\n",
       "      <th>9th grade</th>\n",
       "      <th>10th grade</th>\n",
       "      <th>11th grade2</th>\n",
       "      <th>High school graduate3</th>\n",
       "      <th>Some college, no degree</th>\n",
       "      <th>Associate's degree, occupational</th>\n",
       "      <th>Associate's degree, academic</th>\n",
       "      <th>Bachelor's degree</th>\n",
       "      <th>Master's degree</th>\n",
       "      <th>Professional degree</th>\n",
       "      <th>Doctoral degree</th>\n",
       "    </tr>\n",
       "  </thead>\n",
       "  <tbody>\n",
       "    <tr>\n",
       "      <th>1</th>\n",
       "      <td>18 years and over</td>\n",
       "      <td>1,552</td>\n",
       "      <td>1,354</td>\n",
       "      <td>1,558</td>\n",
       "      <td>4,728</td>\n",
       "      <td>35,858</td>\n",
       "      <td>21,647</td>\n",
       "      <td>5,455</td>\n",
       "      <td>8,584</td>\n",
       "      <td>29,782</td>\n",
       "      <td>13,896</td>\n",
       "      <td>1,604</td>\n",
       "      <td>2,209</td>\n",
       "    </tr>\n",
       "    <tr>\n",
       "      <th>2</th>\n",
       "      <td>18 to 24 years</td>\n",
       "      <td>77</td>\n",
       "      <td>71</td>\n",
       "      <td>212</td>\n",
       "      <td>1,661</td>\n",
       "      <td>4,474</td>\n",
       "      <td>4,746</td>\n",
       "      <td>317</td>\n",
       "      <td>665</td>\n",
       "      <td>1,929</td>\n",
       "      <td>172</td>\n",
       "      <td>20</td>\n",
       "      <td>6</td>\n",
       "    </tr>\n",
       "    <tr>\n",
       "      <th>3</th>\n",
       "      <td>25 years and over</td>\n",
       "      <td>1,475</td>\n",
       "      <td>1,282</td>\n",
       "      <td>1,346</td>\n",
       "      <td>3,067</td>\n",
       "      <td>31,383</td>\n",
       "      <td>16,900</td>\n",
       "      <td>5,138</td>\n",
       "      <td>7,919</td>\n",
       "      <td>27,853</td>\n",
       "      <td>13,725</td>\n",
       "      <td>1,584</td>\n",
       "      <td>2,203</td>\n",
       "    </tr>\n",
       "    <tr>\n",
       "      <th>4</th>\n",
       "      <td>25 to 29 years</td>\n",
       "      <td>87</td>\n",
       "      <td>55</td>\n",
       "      <td>75</td>\n",
       "      <td>251</td>\n",
       "      <td>2,720</td>\n",
       "      <td>1,649</td>\n",
       "      <td>459</td>\n",
       "      <td>695</td>\n",
       "      <td>3,400</td>\n",
       "      <td>1,121</td>\n",
       "      <td>112</td>\n",
       "      <td>136</td>\n",
       "    </tr>\n",
       "    <tr>\n",
       "      <th>5</th>\n",
       "      <td>30 to 34 years</td>\n",
       "      <td>89</td>\n",
       "      <td>86</td>\n",
       "      <td>116</td>\n",
       "      <td>312</td>\n",
       "      <td>2,544</td>\n",
       "      <td>1,605</td>\n",
       "      <td>476</td>\n",
       "      <td>856</td>\n",
       "      <td>3,297</td>\n",
       "      <td>1,552</td>\n",
       "      <td>149</td>\n",
       "      <td>276</td>\n",
       "    </tr>\n",
       "    <tr>\n",
       "      <th>6</th>\n",
       "      <td>35 to 39 years</td>\n",
       "      <td>115</td>\n",
       "      <td>108</td>\n",
       "      <td>132</td>\n",
       "      <td>279</td>\n",
       "      <td>2,298</td>\n",
       "      <td>1,494</td>\n",
       "      <td>440</td>\n",
       "      <td>777</td>\n",
       "      <td>3,016</td>\n",
       "      <td>1,661</td>\n",
       "      <td>223</td>\n",
       "      <td>305</td>\n",
       "    </tr>\n",
       "    <tr>\n",
       "      <th>7</th>\n",
       "      <td>40 to 44 years</td>\n",
       "      <td>117</td>\n",
       "      <td>155</td>\n",
       "      <td>133</td>\n",
       "      <td>250</td>\n",
       "      <td>2,245</td>\n",
       "      <td>1,315</td>\n",
       "      <td>462</td>\n",
       "      <td>732</td>\n",
       "      <td>2,885</td>\n",
       "      <td>1,595</td>\n",
       "      <td>239</td>\n",
       "      <td>273</td>\n",
       "    </tr>\n",
       "    <tr>\n",
       "      <th>8</th>\n",
       "      <td>45 to 49 years</td>\n",
       "      <td>130</td>\n",
       "      <td>144</td>\n",
       "      <td>107</td>\n",
       "      <td>202</td>\n",
       "      <td>2,158</td>\n",
       "      <td>1,303</td>\n",
       "      <td>470</td>\n",
       "      <td>674</td>\n",
       "      <td>2,492</td>\n",
       "      <td>1,517</td>\n",
       "      <td>167</td>\n",
       "      <td>218</td>\n",
       "    </tr>\n",
       "    <tr>\n",
       "      <th>9</th>\n",
       "      <td>50 to 54 years</td>\n",
       "      <td>159</td>\n",
       "      <td>135</td>\n",
       "      <td>87</td>\n",
       "      <td>255</td>\n",
       "      <td>2,643</td>\n",
       "      <td>1,361</td>\n",
       "      <td>488</td>\n",
       "      <td>709</td>\n",
       "      <td>2,582</td>\n",
       "      <td>1,493</td>\n",
       "      <td>118</td>\n",
       "      <td>201</td>\n",
       "    </tr>\n",
       "    <tr>\n",
       "      <th>10</th>\n",
       "      <td>55 to 59 years</td>\n",
       "      <td>107</td>\n",
       "      <td>116</td>\n",
       "      <td>107</td>\n",
       "      <td>288</td>\n",
       "      <td>3,073</td>\n",
       "      <td>1,582</td>\n",
       "      <td>580</td>\n",
       "      <td>824</td>\n",
       "      <td>2,436</td>\n",
       "      <td>1,040</td>\n",
       "      <td>119</td>\n",
       "      <td>171</td>\n",
       "    </tr>\n",
       "  </tbody>\n",
       "</table>\n",
       "</div>"
      ],
      "text/plain": [
       "       Characteristic 7th - 8th grade 9th grade 10th grade 11th grade2  \\\n",
       "1   18 years and over           1,552     1,354      1,558       4,728   \n",
       "2      18 to 24 years              77        71        212       1,661   \n",
       "3   25 years and over           1,475     1,282      1,346       3,067   \n",
       "4      25 to 29 years              87        55         75         251   \n",
       "5      30 to 34 years              89        86        116         312   \n",
       "6      35 to 39 years             115       108        132         279   \n",
       "7      40 to 44 years             117       155        133         250   \n",
       "8      45 to 49 years             130       144        107         202   \n",
       "9      50 to 54 years             159       135         87         255   \n",
       "10     55 to 59 years             107       116        107         288   \n",
       "\n",
       "   High school graduate3 Some college, no degree  \\\n",
       "1                 35,858                  21,647   \n",
       "2                  4,474                   4,746   \n",
       "3                 31,383                  16,900   \n",
       "4                  2,720                   1,649   \n",
       "5                  2,544                   1,605   \n",
       "6                  2,298                   1,494   \n",
       "7                  2,245                   1,315   \n",
       "8                  2,158                   1,303   \n",
       "9                  2,643                   1,361   \n",
       "10                 3,073                   1,582   \n",
       "\n",
       "   Associate's degree, occupational Associate's degree, academic  \\\n",
       "1                             5,455                        8,584   \n",
       "2                               317                          665   \n",
       "3                             5,138                        7,919   \n",
       "4                               459                          695   \n",
       "5                               476                          856   \n",
       "6                               440                          777   \n",
       "7                               462                          732   \n",
       "8                               470                          674   \n",
       "9                               488                          709   \n",
       "10                              580                          824   \n",
       "\n",
       "   Bachelor's degree Master's degree Professional degree Doctoral degree  \n",
       "1             29,782          13,896               1,604           2,209  \n",
       "2              1,929             172                  20               6  \n",
       "3             27,853          13,725               1,584           2,203  \n",
       "4              3,400           1,121                 112             136  \n",
       "5              3,297           1,552                 149             276  \n",
       "6              3,016           1,661                 223             305  \n",
       "7              2,885           1,595                 239             273  \n",
       "8              2,492           1,517                 167             218  \n",
       "9              2,582           1,493                 118             201  \n",
       "10             2,436           1,040                 119             171  "
      ]
     },
     "execution_count": 6,
     "metadata": {},
     "output_type": "execute_result"
    }
   ],
   "source": [
    "#Drop Total Column to enumrate certain rows \n",
    "ed_7th_andup = education_females_df.drop(columns=['Total', 'None', '1st - 4th grade', '5th - 6th grade'])\n",
    "ed_7th_andup.head(10)"
   ]
  },
  {
   "cell_type": "code",
   "execution_count": 16,
   "id": "a9e236e5-c65a-44b2-b30b-e31234900937",
   "metadata": {},
   "outputs": [
    {
     "data": {
      "text/plain": [
       "Characteristic                      45 to 49 years50 to 54 years55 to 59 years\n",
       "7th - 8th grade                                                      130159107\n",
       "9th grade                                                            144135116\n",
       "10th grade                                                            10787107\n",
       "11th grade2                                                          202255288\n",
       "High school graduate3                                          2,1582,6433,073\n",
       "Some college, no degree                                        1,3031,3611,582\n",
       "Associate's degree, occupational                                     470488580\n",
       "Associate's degree, academic                                         674709824\n",
       "Bachelor's degree                                              2,4922,5822,436\n",
       "dtype: object"
      ]
     },
     "execution_count": 16,
     "metadata": {},
     "output_type": "execute_result"
    }
   ],
   "source": [
    "females_45to59 = ed_7th_andup.iloc[7] + ed_7th_andup.iloc[8] + ed_7th_andup.iloc[9]\n",
    "females_45to59.head(10)"
   ]
  },
  {
   "cell_type": "code",
   "execution_count": 14,
   "id": "e5e76d4e-72c1-4be6-863d-7f4fb495962f",
   "metadata": {},
   "outputs": [
    {
     "ename": "SyntaxError",
     "evalue": "invalid syntax (1510090793.py, line 1)",
     "output_type": "error",
     "traceback": [
      "\u001b[1;36m  File \u001b[1;32m\"C:\\Users\\Chelsea\\AppData\\Local\\Temp\\ipykernel_13548\\1510090793.py\"\u001b[1;36m, line \u001b[1;32m1\u001b[0m\n\u001b[1;33m    females_45to59 = females_45to59.rename(columns=females_45to59.iloc[0]).loc[1:])\u001b[0m\n\u001b[1;37m                                                                                  ^\u001b[0m\n\u001b[1;31mSyntaxError\u001b[0m\u001b[1;31m:\u001b[0m invalid syntax\n"
     ]
    }
   ],
   "source": [
    "females_45to59 = females_45to59.rename(columns=females_45to59.iloc[0]).loc[1:])\n",
    "females_45to59.head()"
   ]
  },
  {
   "cell_type": "code",
   "execution_count": 13,
   "id": "e2e6e1d6-b36c-4b75-af1c-b1504fc1019a",
   "metadata": {},
   "outputs": [
    {
     "ename": "TypeError",
     "evalue": "can only concatenate tuple (not \"str\") to tuple",
     "output_type": "error",
     "traceback": [
      "\u001b[1;31m---------------------------------------------------------------------------\u001b[0m",
      "\u001b[1;31mTypeError\u001b[0m                                 Traceback (most recent call last)",
      "\u001b[1;32m~\\AppData\\Local\\Temp\\ipykernel_13548\\3083586661.py\u001b[0m in \u001b[0;36m<module>\u001b[1;34m\u001b[0m\n\u001b[0;32m      1\u001b[0m \u001b[1;32mfor\u001b[0m \u001b[0mrow\u001b[0m \u001b[1;32min\u001b[0m \u001b[0mfemales_45to59\u001b[0m\u001b[1;33m:\u001b[0m\u001b[1;33m\u001b[0m\u001b[1;33m\u001b[0m\u001b[0m\n\u001b[0;32m      2\u001b[0m     \u001b[0mtotal\u001b[0m \u001b[1;33m=\u001b[0m \u001b[1;36m0\u001b[0m\u001b[1;33m,\u001b[0m\u001b[1;33m\u001b[0m\u001b[1;33m\u001b[0m\u001b[0m\n\u001b[1;32m----> 3\u001b[1;33m     \u001b[0mtotal\u001b[0m \u001b[1;33m+=\u001b[0m \u001b[0mrow\u001b[0m\u001b[1;33m\u001b[0m\u001b[1;33m\u001b[0m\u001b[0m\n\u001b[0m\u001b[0;32m      4\u001b[0m \u001b[0mprint\u001b[0m\u001b[1;33m(\u001b[0m\u001b[0mtotal\u001b[0m\u001b[1;33m)\u001b[0m\u001b[1;33m\u001b[0m\u001b[1;33m\u001b[0m\u001b[0m\n",
      "\u001b[1;31mTypeError\u001b[0m: can only concatenate tuple (not \"str\") to tuple"
     ]
    }
   ],
   "source": [
    "for row in females_45to59:\n",
    "    total = 0, \n",
    "    total += row\n",
    "print(total)"
   ]
  },
  {
   "cell_type": "code",
   "execution_count": 17,
   "id": "88466d23-425e-4f1a-817d-08c607229fcd",
   "metadata": {},
   "outputs": [
    {
     "data": {},
     "metadata": {},
     "output_type": "display_data"
    },
    {
     "data": {
      "application/vnd.holoviews_exec.v0+json": "",
      "text/html": [
       "<div id='1002'>\n",
       "  <div class=\"bk-root\" id=\"ec9f4dee-9a31-4d9b-809b-cf02b2e19578\" data-root-id=\"1002\"></div>\n",
       "</div>\n",
       "<script type=\"application/javascript\">(function(root) {\n",
       "  function embed_document(root) {\n",
       "    var docs_json = {\"b2b86eee-19b4-4495-8da7-0031fde21c8e\":{\"defs\":[{\"extends\":null,\"module\":null,\"name\":\"ReactiveHTML1\",\"overrides\":[],\"properties\":[]},{\"extends\":null,\"module\":null,\"name\":\"FlexBox1\",\"overrides\":[],\"properties\":[{\"default\":\"flex-start\",\"kind\":null,\"name\":\"align_content\"},{\"default\":\"flex-start\",\"kind\":null,\"name\":\"align_items\"},{\"default\":\"row\",\"kind\":null,\"name\":\"flex_direction\"},{\"default\":\"wrap\",\"kind\":null,\"name\":\"flex_wrap\"},{\"default\":\"flex-start\",\"kind\":null,\"name\":\"justify_content\"}]},{\"extends\":null,\"module\":null,\"name\":\"GridStack1\",\"overrides\":[],\"properties\":[{\"default\":\"warn\",\"kind\":null,\"name\":\"mode\"},{\"default\":null,\"kind\":null,\"name\":\"ncols\"},{\"default\":null,\"kind\":null,\"name\":\"nrows\"},{\"default\":true,\"kind\":null,\"name\":\"allow_resize\"},{\"default\":true,\"kind\":null,\"name\":\"allow_drag\"},{\"default\":[],\"kind\":null,\"name\":\"state\"}]},{\"extends\":null,\"module\":null,\"name\":\"click1\",\"overrides\":[],\"properties\":[{\"default\":\"\",\"kind\":null,\"name\":\"terminal_output\"},{\"default\":\"\",\"kind\":null,\"name\":\"debug_name\"},{\"default\":0,\"kind\":null,\"name\":\"clears\"}]},{\"extends\":null,\"module\":null,\"name\":\"NotificationAreaBase1\",\"overrides\":[],\"properties\":[{\"default\":\"bottom-right\",\"kind\":null,\"name\":\"position\"},{\"default\":0,\"kind\":null,\"name\":\"_clear\"}]},{\"extends\":null,\"module\":null,\"name\":\"NotificationArea1\",\"overrides\":[],\"properties\":[{\"default\":[],\"kind\":null,\"name\":\"notifications\"},{\"default\":\"bottom-right\",\"kind\":null,\"name\":\"position\"},{\"default\":0,\"kind\":null,\"name\":\"_clear\"},{\"default\":[{\"background\":\"#ffc107\",\"icon\":{\"className\":\"fas fa-exclamation-triangle\",\"color\":\"white\",\"tagName\":\"i\"},\"type\":\"warning\"},{\"background\":\"#007bff\",\"icon\":{\"className\":\"fas fa-info-circle\",\"color\":\"white\",\"tagName\":\"i\"},\"type\":\"info\"}],\"kind\":null,\"name\":\"types\"}]},{\"extends\":null,\"module\":null,\"name\":\"Notification\",\"overrides\":[],\"properties\":[{\"default\":null,\"kind\":null,\"name\":\"background\"},{\"default\":3000,\"kind\":null,\"name\":\"duration\"},{\"default\":null,\"kind\":null,\"name\":\"icon\"},{\"default\":\"\",\"kind\":null,\"name\":\"message\"},{\"default\":null,\"kind\":null,\"name\":\"notification_type\"},{\"default\":false,\"kind\":null,\"name\":\"_destroyed\"}]},{\"extends\":null,\"module\":null,\"name\":\"TemplateActions1\",\"overrides\":[],\"properties\":[{\"default\":0,\"kind\":null,\"name\":\"open_modal\"},{\"default\":0,\"kind\":null,\"name\":\"close_modal\"}]},{\"extends\":null,\"module\":null,\"name\":\"MaterialTemplateActions1\",\"overrides\":[],\"properties\":[{\"default\":0,\"kind\":null,\"name\":\"open_modal\"},{\"default\":0,\"kind\":null,\"name\":\"close_modal\"}]}],\"roots\":{\"references\":[{\"attributes\":{\"line_alpha\":0.2,\"line_color\":\"#30a2da\",\"line_width\":2,\"x\":{\"field\":\"index\"},\"y\":{\"field\":\"0\"}},\"id\":\"1040\",\"type\":\"Line\"},{\"attributes\":{\"axis_label\":\"\",\"coordinates\":null,\"formatter\":{\"id\":\"1048\"},\"group\":null,\"major_label_policy\":{\"id\":\"1049\"},\"ticker\":{\"id\":\"1020\"}},\"id\":\"1019\",\"type\":\"CategoricalAxis\"},{\"attributes\":{\"factors\":[\"45 to 49 years50 to 54 years55 to 59 years\",\"130159107\",\"144135116\",\"10787107\",\"202255288\",\"2,1582,6433,073\",\"1,3031,3611,582\",\"470488580\",\"674709824\",\"2,4922,5822,436\",\"1,5171,4931,040\",\"167118119\",\"218201171\"],\"tags\":[[[\"0\",\"0\",null]]]},\"id\":\"1005\",\"type\":\"FactorRange\"},{\"attributes\":{},\"id\":\"1020\",\"type\":\"CategoricalTicker\"},{\"attributes\":{\"source\":{\"id\":\"1035\"}},\"id\":\"1042\",\"type\":\"CDSView\"},{\"attributes\":{\"axis\":{\"id\":\"1019\"},\"coordinates\":null,\"dimension\":1,\"grid_line_color\":null,\"group\":null,\"ticker\":null},\"id\":\"1021\",\"type\":\"Grid\"},{\"attributes\":{\"line_color\":\"#30a2da\",\"line_width\":2,\"x\":{\"field\":\"index\"},\"y\":{\"field\":\"0\"}},\"id\":\"1043\",\"type\":\"Line\"},{\"attributes\":{\"callback\":null,\"renderers\":[{\"id\":\"1041\"}],\"tags\":[\"hv_created\"],\"tooltips\":[[\"index\",\"@{index}\"],[\"0\",\"@{A_0}\"]]},\"id\":\"1006\",\"type\":\"HoverTool\"},{\"attributes\":{\"coordinates\":null,\"data_source\":{\"id\":\"1035\"},\"glyph\":{\"id\":\"1038\"},\"group\":null,\"hover_glyph\":null,\"muted_glyph\":{\"id\":\"1040\"},\"nonselection_glyph\":{\"id\":\"1039\"},\"selection_glyph\":{\"id\":\"1043\"},\"view\":{\"id\":\"1042\"}},\"id\":\"1041\",\"type\":\"GlyphRenderer\"},{\"attributes\":{\"below\":[{\"id\":\"1016\"}],\"center\":[{\"id\":\"1018\"},{\"id\":\"1021\"}],\"height\":300,\"left\":[{\"id\":\"1019\"}],\"margin\":[5,5,5,5],\"min_border_bottom\":10,\"min_border_left\":10,\"min_border_right\":10,\"min_border_top\":10,\"renderers\":[{\"id\":\"1041\"}],\"sizing_mode\":\"fixed\",\"title\":{\"id\":\"1008\"},\"toolbar\":{\"id\":\"1028\"},\"width\":700,\"x_range\":{\"id\":\"1004\"},\"x_scale\":{\"id\":\"1012\"},\"y_range\":{\"id\":\"1005\"},\"y_scale\":{\"id\":\"1014\"}},\"id\":\"1007\",\"subtype\":\"Figure\",\"type\":\"Plot\"},{\"attributes\":{\"data\":{\"0\":[\"45 to 49 years50 to 54 years55 to 59 years\",\"130159107\",\"144135116\",\"10787107\",\"202255288\",\"2,1582,6433,073\",\"1,3031,3611,582\",\"470488580\",\"674709824\",\"2,4922,5822,436\",\"1,5171,4931,040\",\"167118119\",\"218201171\"],\"A_0\":[\"45 to 49 years50 to 54 years55 to 59 years\",\"130159107\",\"144135116\",\"10787107\",\"202255288\",\"2,1582,6433,073\",\"1,3031,3611,582\",\"470488580\",\"674709824\",\"2,4922,5822,436\",\"1,5171,4931,040\",\"167118119\",\"218201171\"],\"index\":[\"Characteristic\",\"7th - 8th grade\",\"9th grade\",\"10th grade\",\"11th grade2\",\"High school graduate3\",\"Some college, no degree\",\"Associate's degree, occupational\",\"Associate's degree, academic\",\"Bachelor's degree\",\"Master's degree\",\"Professional degree\",\"Doctoral degree\"]},\"selected\":{\"id\":\"1036\"},\"selection_policy\":{\"id\":\"1057\"}},\"id\":\"1035\",\"type\":\"ColumnDataSource\"},{\"attributes\":{},\"id\":\"1057\",\"type\":\"UnionRenderers\"},{\"attributes\":{},\"id\":\"1046\",\"type\":\"AllLabels\"},{\"attributes\":{\"bottom_units\":\"screen\",\"coordinates\":null,\"fill_alpha\":0.5,\"fill_color\":\"lightgrey\",\"group\":null,\"left_units\":\"screen\",\"level\":\"overlay\",\"line_alpha\":1.0,\"line_color\":\"black\",\"line_dash\":[4,4],\"line_width\":2,\"right_units\":\"screen\",\"syncable\":false,\"top_units\":\"screen\"},\"id\":\"1027\",\"type\":\"BoxAnnotation\"},{\"attributes\":{\"line_color\":\"#30a2da\",\"line_width\":2,\"x\":{\"field\":\"index\"},\"y\":{\"field\":\"0\"}},\"id\":\"1038\",\"type\":\"Line\"},{\"attributes\":{},\"id\":\"1022\",\"type\":\"SaveTool\"},{\"attributes\":{},\"id\":\"1023\",\"type\":\"PanTool\"},{\"attributes\":{},\"id\":\"1049\",\"type\":\"AllLabels\"},{\"attributes\":{\"coordinates\":null,\"group\":null,\"text\":\"0\",\"text_color\":\"black\",\"text_font_size\":\"12pt\"},\"id\":\"1008\",\"type\":\"Title\"},{\"attributes\":{},\"id\":\"1026\",\"type\":\"ResetTool\"},{\"attributes\":{\"margin\":[5,5,5,5],\"name\":\"HSpacer00862\",\"sizing_mode\":\"stretch_width\"},\"id\":\"1003\",\"type\":\"Spacer\"},{\"attributes\":{},\"id\":\"1024\",\"type\":\"WheelZoomTool\"},{\"attributes\":{},\"id\":\"1048\",\"type\":\"CategoricalTickFormatter\"},{\"attributes\":{\"overlay\":{\"id\":\"1027\"}},\"id\":\"1025\",\"type\":\"BoxZoomTool\"},{\"attributes\":{\"margin\":[5,5,5,5],\"name\":\"HSpacer00863\",\"sizing_mode\":\"stretch_width\"},\"id\":\"1060\",\"type\":\"Spacer\"},{\"attributes\":{},\"id\":\"1045\",\"type\":\"CategoricalTickFormatter\"},{\"attributes\":{\"axis_label\":\"\",\"coordinates\":null,\"formatter\":{\"id\":\"1045\"},\"group\":null,\"major_label_policy\":{\"id\":\"1046\"},\"ticker\":{\"id\":\"1017\"}},\"id\":\"1016\",\"type\":\"CategoricalAxis\"},{\"attributes\":{},\"id\":\"1012\",\"type\":\"CategoricalScale\"},{\"attributes\":{\"factors\":[\"Characteristic\",\"7th - 8th grade\",\"9th grade\",\"10th grade\",\"11th grade2\",\"High school graduate3\",\"Some college, no degree\",\"Associate's degree, occupational\",\"Associate's degree, academic\",\"Bachelor's degree\",\"Master's degree\",\"Professional degree\",\"Doctoral degree\"],\"tags\":[[[\"index\",\"index\",null]]]},\"id\":\"1004\",\"type\":\"FactorRange\"},{\"attributes\":{},\"id\":\"1017\",\"type\":\"CategoricalTicker\"},{\"attributes\":{},\"id\":\"1036\",\"type\":\"Selection\"},{\"attributes\":{\"children\":[{\"id\":\"1003\"},{\"id\":\"1007\"},{\"id\":\"1060\"}],\"margin\":[0,0,0,0],\"name\":\"Row00858\",\"tags\":[\"embedded\"]},\"id\":\"1002\",\"type\":\"Row\"},{\"attributes\":{},\"id\":\"1014\",\"type\":\"CategoricalScale\"},{\"attributes\":{\"tools\":[{\"id\":\"1006\"},{\"id\":\"1022\"},{\"id\":\"1023\"},{\"id\":\"1024\"},{\"id\":\"1025\"},{\"id\":\"1026\"}]},\"id\":\"1028\",\"type\":\"Toolbar\"},{\"attributes\":{\"axis\":{\"id\":\"1016\"},\"coordinates\":null,\"grid_line_color\":null,\"group\":null,\"ticker\":null},\"id\":\"1018\",\"type\":\"Grid\"},{\"attributes\":{\"line_alpha\":0.1,\"line_color\":\"#30a2da\",\"line_width\":2,\"x\":{\"field\":\"index\"},\"y\":{\"field\":\"0\"}},\"id\":\"1039\",\"type\":\"Line\"}],\"root_ids\":[\"1002\"]},\"title\":\"Bokeh Application\",\"version\":\"2.4.3\"}};\n",
       "    var render_items = [{\"docid\":\"b2b86eee-19b4-4495-8da7-0031fde21c8e\",\"root_ids\":[\"1002\"],\"roots\":{\"1002\":\"ec9f4dee-9a31-4d9b-809b-cf02b2e19578\"}}];\n",
       "    root.Bokeh.embed.embed_items_notebook(docs_json, render_items);\n",
       "  }\n",
       "  if (root.Bokeh !== undefined && root.Bokeh.Panel !== undefined) {\n",
       "    embed_document(root);\n",
       "  } else {\n",
       "    var attempts = 0;\n",
       "    var timer = setInterval(function(root) {\n",
       "      if (root.Bokeh !== undefined && root.Bokeh.Panel !== undefined) {\n",
       "        clearInterval(timer);\n",
       "        embed_document(root);\n",
       "      } else if (document.readyState == \"complete\") {\n",
       "        attempts++;\n",
       "        if (attempts > 200) {\n",
       "          clearInterval(timer);\n",
       "          console.log(\"Bokeh: ERROR: Unable to run BokehJS code because BokehJS library is missing\");\n",
       "        }\n",
       "      }\n",
       "    }, 25, root)\n",
       "  }\n",
       "})(window);</script>"
      ],
      "text/plain": [
       ":Curve   [index]   (0)"
      ]
     },
     "execution_count": 17,
     "metadata": {
      "application/vnd.holoviews_exec.v0+json": {
       "id": "1002"
      }
     },
     "output_type": "execute_result"
    }
   ],
   "source": [
    "females_45to59.hvplot()"
   ]
  },
  {
   "cell_type": "code",
   "execution_count": null,
   "id": "e50bb6c6-2137-4126-bac9-7869c2f99739",
   "metadata": {},
   "outputs": [],
   "source": []
  }
 ],
 "metadata": {
  "kernelspec": {
   "display_name": "Python 3 (ipykernel)",
   "language": "python",
   "name": "python3"
  },
  "language_info": {
   "codemirror_mode": {
    "name": "ipython",
    "version": 3
   },
   "file_extension": ".py",
   "mimetype": "text/x-python",
   "name": "python",
   "nbconvert_exporter": "python",
   "pygments_lexer": "ipython3",
   "version": "3.7.13"
  }
 },
 "nbformat": 4,
 "nbformat_minor": 5
}
