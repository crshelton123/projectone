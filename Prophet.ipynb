{
 "cells": [
  {
   "cell_type": "code",
   "execution_count": 1,
   "id": "b4d1be9b-7510-48ec-90da-3e5a372e6789",
   "metadata": {},
   "outputs": [],
   "source": [
    "import matplotlib.pyplot as plt\n",
    "import pandas as pd\n",
    "import numpy as np\n",
    "import os\n",
    "from fbprophet import Prophet\n",
    "from pathlib import Path\n"
   ]
  },
  {
   "cell_type": "code",
   "execution_count": 2,
   "id": "f938505e-39b7-4ace-8aa7-cf43d88209ab",
   "metadata": {},
   "outputs": [
    {
     "data": {
      "text/html": [
       "<div>\n",
       "<style scoped>\n",
       "    .dataframe tbody tr th:only-of-type {\n",
       "        vertical-align: middle;\n",
       "    }\n",
       "\n",
       "    .dataframe tbody tr th {\n",
       "        vertical-align: top;\n",
       "    }\n",
       "\n",
       "    .dataframe thead th {\n",
       "        text-align: right;\n",
       "    }\n",
       "</style>\n",
       "<table border=\"1\" class=\"dataframe\">\n",
       "  <thead>\n",
       "    <tr style=\"text-align: right;\">\n",
       "      <th></th>\n",
       "      <th>Unnamed: 0</th>\n",
       "      <th>2017</th>\n",
       "      <th>2018</th>\n",
       "      <th>2019</th>\n",
       "      <th>2020</th>\n",
       "      <th>2021</th>\n",
       "      <th>2022</th>\n",
       "    </tr>\n",
       "  </thead>\n",
       "  <tbody>\n",
       "    <tr>\n",
       "      <th>0</th>\n",
       "      <td>Users in Million</td>\n",
       "      <td>4.36</td>\n",
       "      <td>6.75</td>\n",
       "      <td>10.38</td>\n",
       "      <td>15.63</td>\n",
       "      <td>22.63</td>\n",
       "      <td>30.69</td>\n",
       "    </tr>\n",
       "  </tbody>\n",
       "</table>\n",
       "</div>"
      ],
      "text/plain": [
       "         Unnamed: 0  2017  2018   2019   2020   2021   2022\n",
       "0  Users in Million  4.36  6.75  10.38  15.63  22.63  30.69"
      ]
     },
     "execution_count": 2,
     "metadata": {},
     "output_type": "execute_result"
    }
   ],
   "source": [
    "roboadvisors_users_growth_path = Path(\"Resources/roboadvisors_users_growth.csv\")\n",
    "roboadvisors_users_growth_path_df = pd.read_csv(roboadvisors_users_growth_path)\n",
    "roboadvisors_users_growth_path_df.head()"
   ]
  },
  {
   "cell_type": "code",
   "execution_count": 3,
   "id": "066ac615-0f82-4322-8fdd-1c6e059a0c51",
   "metadata": {},
   "outputs": [
    {
     "data": {
      "text/html": [
       "<div>\n",
       "<style scoped>\n",
       "    .dataframe tbody tr th:only-of-type {\n",
       "        vertical-align: middle;\n",
       "    }\n",
       "\n",
       "    .dataframe tbody tr th {\n",
       "        vertical-align: top;\n",
       "    }\n",
       "\n",
       "    .dataframe thead th {\n",
       "        text-align: right;\n",
       "    }\n",
       "</style>\n",
       "<table border=\"1\" class=\"dataframe\">\n",
       "  <thead>\n",
       "    <tr style=\"text-align: right;\">\n",
       "      <th></th>\n",
       "      <th>users_in_million</th>\n",
       "      <th>2017</th>\n",
       "      <th>2018</th>\n",
       "      <th>2019</th>\n",
       "      <th>2020</th>\n",
       "      <th>2021</th>\n",
       "      <th>2022</th>\n",
       "    </tr>\n",
       "  </thead>\n",
       "  <tbody>\n",
       "    <tr>\n",
       "      <th>0</th>\n",
       "      <td>Users in Million</td>\n",
       "      <td>4.36</td>\n",
       "      <td>6.75</td>\n",
       "      <td>10.38</td>\n",
       "      <td>15.63</td>\n",
       "      <td>22.63</td>\n",
       "      <td>30.69</td>\n",
       "    </tr>\n",
       "  </tbody>\n",
       "</table>\n",
       "</div>"
      ],
      "text/plain": [
       "   users_in_million  2017  2018   2019   2020   2021   2022\n",
       "0  Users in Million  4.36  6.75  10.38  15.63  22.63  30.69"
      ]
     },
     "execution_count": 3,
     "metadata": {},
     "output_type": "execute_result"
    }
   ],
   "source": [
    "roboadvisors_users_growth_path_df.rename(columns={'Unnamed: 0': 'users_in_million'}, inplace = True)\n",
    "\n",
    "\n",
    "\n",
    "roboadvisors_users_growth_path_df.head()"
   ]
  },
  {
   "cell_type": "code",
   "execution_count": 4,
   "id": "3fe9bffd-7620-4efa-bdb7-54ce2fa5d437",
   "metadata": {},
   "outputs": [
    {
     "data": {
      "text/html": [
       "<div>\n",
       "<style scoped>\n",
       "    .dataframe tbody tr th:only-of-type {\n",
       "        vertical-align: middle;\n",
       "    }\n",
       "\n",
       "    .dataframe tbody tr th {\n",
       "        vertical-align: top;\n",
       "    }\n",
       "\n",
       "    .dataframe thead th {\n",
       "        text-align: right;\n",
       "    }\n",
       "</style>\n",
       "<table border=\"1\" class=\"dataframe\">\n",
       "  <thead>\n",
       "    <tr style=\"text-align: right;\">\n",
       "      <th></th>\n",
       "      <th>2017</th>\n",
       "      <th>2018</th>\n",
       "      <th>2019</th>\n",
       "      <th>2020</th>\n",
       "      <th>2021</th>\n",
       "      <th>2022</th>\n",
       "    </tr>\n",
       "    <tr>\n",
       "      <th>users_in_million</th>\n",
       "      <th></th>\n",
       "      <th></th>\n",
       "      <th></th>\n",
       "      <th></th>\n",
       "      <th></th>\n",
       "      <th></th>\n",
       "    </tr>\n",
       "  </thead>\n",
       "  <tbody>\n",
       "    <tr>\n",
       "      <th>Users in Million</th>\n",
       "      <td>4.36</td>\n",
       "      <td>6.75</td>\n",
       "      <td>10.38</td>\n",
       "      <td>15.63</td>\n",
       "      <td>22.63</td>\n",
       "      <td>30.69</td>\n",
       "    </tr>\n",
       "  </tbody>\n",
       "</table>\n",
       "</div>"
      ],
      "text/plain": [
       "                  2017  2018   2019   2020   2021   2022\n",
       "users_in_million                                        \n",
       "Users in Million  4.36  6.75  10.38  15.63  22.63  30.69"
      ]
     },
     "execution_count": 4,
     "metadata": {},
     "output_type": "execute_result"
    }
   ],
   "source": [
    "roboadvisors_users_growth_path_df = roboadvisors_users_growth_path_df.set_index(roboadvisors_users_growth_path_df['users_in_million'])\n",
    "roboadvisors_users_growth_path_df.drop(columns='users_in_million', inplace=True)\n",
    "\n",
    "roboadvisors_users_growth_path_df.head()"
   ]
  },
  {
   "cell_type": "code",
   "execution_count": null,
   "id": "731d254e-678a-4e08-8492-f422fcd7c3e3",
   "metadata": {},
   "outputs": [],
   "source": []
  }
 ],
 "metadata": {
  "kernelspec": {
   "display_name": "Python 3 (ipykernel)",
   "language": "python",
   "name": "python3"
  },
  "language_info": {
   "codemirror_mode": {
    "name": "ipython",
    "version": 3
   },
   "file_extension": ".py",
   "mimetype": "text/x-python",
   "name": "python",
   "nbconvert_exporter": "python",
   "pygments_lexer": "ipython3",
   "version": "3.7.13"
  }
 },
 "nbformat": 4,
 "nbformat_minor": 5
}
