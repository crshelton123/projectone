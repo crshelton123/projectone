{
 "cells": [
  {
   "cell_type": "code",
   "execution_count": 2,
   "id": "b4daae33-4ad5-4a65-b129-bc5d87c03c79",
   "metadata": {},
   "outputs": [
    {
     "data": {
      "text/plain": [
       "True"
      ]
     },
     "execution_count": 2,
     "metadata": {},
     "output_type": "execute_result"
    }
   ],
   "source": [
    "load_dotenv()"
   ]
  },
  {
   "cell_type": "code",
   "execution_count": 3,
   "id": "8d9811d6-a0d5-4165-b291-0bc7a82f2476",
   "metadata": {},
   "outputs": [],
   "source": [
    "#Get API Key stored as variable\n",
    "api_key = os.getenv(\"CENSUS_DATA_API_KEY\")"
   ]
  },
  {
   "cell_type": "code",
   "execution_count": 5,
   "id": "abae4610-aa62-4b0d-b98f-4d96f44d26f7",
   "metadata": {},
   "outputs": [
    {
     "data": {
      "text/plain": [
       "str"
      ]
     },
     "execution_count": 5,
     "metadata": {},
     "output_type": "execute_result"
    }
   ],
   "source": [
    "#Check that key was retrieved\n",
    "type(api_key)"
   ]
  },
  {
   "cell_type": "code",
   "execution_count": 4,
   "id": "0bd4d1e2-4249-42ec-9dff-13214808d3b7",
   "metadata": {},
   "outputs": [],
   "source": [
    "# Define the base request URL\n",
    "state_pop_url = \"https://api.census.gov/data/2021/pep/population?get=NAME,POP_2021&for=state:*&key=\"\n",
    "\n",
    "# Concatenate request_url and api_key. Store as new variable\n",
    "state_pop_url = state_pop_url + api_key"
   ]
  },
  {
   "cell_type": "code",
   "execution_count": 20,
   "id": "9eac932c-9eea-4ac6-b1d5-b3d89e0598a3",
   "metadata": {},
   "outputs": [
    {
     "data": {
      "text/html": [
       "<div>\n",
       "<style scoped>\n",
       "    .dataframe tbody tr th:only-of-type {\n",
       "        vertical-align: middle;\n",
       "    }\n",
       "\n",
       "    .dataframe tbody tr th {\n",
       "        vertical-align: top;\n",
       "    }\n",
       "\n",
       "    .dataframe thead th {\n",
       "        text-align: right;\n",
       "    }\n",
       "</style>\n",
       "<table border=\"1\" class=\"dataframe\">\n",
       "  <thead>\n",
       "    <tr style=\"text-align: right;\">\n",
       "      <th></th>\n",
       "      <th>0</th>\n",
       "      <th>1</th>\n",
       "      <th>2</th>\n",
       "    </tr>\n",
       "  </thead>\n",
       "  <tbody>\n",
       "    <tr>\n",
       "      <th>0</th>\n",
       "      <td>NAME</td>\n",
       "      <td>POP_2021</td>\n",
       "      <td>state</td>\n",
       "    </tr>\n",
       "    <tr>\n",
       "      <th>1</th>\n",
       "      <td>Oklahoma</td>\n",
       "      <td>3986639</td>\n",
       "      <td>40</td>\n",
       "    </tr>\n",
       "    <tr>\n",
       "      <th>2</th>\n",
       "      <td>Nebraska</td>\n",
       "      <td>1963692</td>\n",
       "      <td>31</td>\n",
       "    </tr>\n",
       "    <tr>\n",
       "      <th>3</th>\n",
       "      <td>Hawaii</td>\n",
       "      <td>1441553</td>\n",
       "      <td>15</td>\n",
       "    </tr>\n",
       "    <tr>\n",
       "      <th>4</th>\n",
       "      <td>South Dakota</td>\n",
       "      <td>895376</td>\n",
       "      <td>46</td>\n",
       "    </tr>\n",
       "  </tbody>\n",
       "</table>\n",
       "</div>"
      ],
      "text/plain": [
       "              0         1      2\n",
       "0          NAME  POP_2021  state\n",
       "1      Oklahoma   3986639     40\n",
       "2      Nebraska   1963692     31\n",
       "3        Hawaii   1441553     15\n",
       "4  South Dakota    895376     46"
      ]
     },
     "execution_count": 20,
     "metadata": {},
     "output_type": "execute_result"
    }
   ],
   "source": [
    "state_pop_df = pd.read_json(state_pop_url)\n",
    "state_pop_df.head()"
   ]
  },
  {
   "cell_type": "code",
   "execution_count": 21,
   "id": "640c7b28-fb15-4215-9108-d623e47fdf5c",
   "metadata": {},
   "outputs": [],
   "source": [
    "state_pop_df = state_pop_df.rename(columns=state_pop_df.iloc[0]).loc[1:]"
   ]
  },
  {
   "cell_type": "code",
   "execution_count": 22,
   "id": "026a9ef6-55f2-4201-8886-8d874fe61b00",
   "metadata": {},
   "outputs": [],
   "source": [
    "state_pop_df.drop(columns='state', inplace=True)"
   ]
  },
  {
   "cell_type": "code",
   "execution_count": 32,
   "id": "5f0898ce-9139-445f-893c-b63047996098",
   "metadata": {},
   "outputs": [],
   "source": [
    "state_pop_df = state_pop_df.set_index(state_pop_df['NAME'])\n",
    "state_pop_df.drop(columns='NAME', inplace=True)"
   ]
  },
  {
   "cell_type": "code",
   "execution_count": 33,
   "id": "1202b126-e2cd-4086-b74e-97cb29ac5123",
   "metadata": {},
   "outputs": [
    {
     "data": {
      "text/html": [
       "<div>\n",
       "<style scoped>\n",
       "    .dataframe tbody tr th:only-of-type {\n",
       "        vertical-align: middle;\n",
       "    }\n",
       "\n",
       "    .dataframe tbody tr th {\n",
       "        vertical-align: top;\n",
       "    }\n",
       "\n",
       "    .dataframe thead th {\n",
       "        text-align: right;\n",
       "    }\n",
       "</style>\n",
       "<table border=\"1\" class=\"dataframe\">\n",
       "  <thead>\n",
       "    <tr style=\"text-align: right;\">\n",
       "      <th></th>\n",
       "      <th>POP_2021</th>\n",
       "    </tr>\n",
       "    <tr>\n",
       "      <th>NAME</th>\n",
       "      <th></th>\n",
       "    </tr>\n",
       "  </thead>\n",
       "  <tbody>\n",
       "    <tr>\n",
       "      <th>Oklahoma</th>\n",
       "      <td>3986639</td>\n",
       "    </tr>\n",
       "    <tr>\n",
       "      <th>Nebraska</th>\n",
       "      <td>1963692</td>\n",
       "    </tr>\n",
       "    <tr>\n",
       "      <th>Hawaii</th>\n",
       "      <td>1441553</td>\n",
       "    </tr>\n",
       "    <tr>\n",
       "      <th>South Dakota</th>\n",
       "      <td>895376</td>\n",
       "    </tr>\n",
       "    <tr>\n",
       "      <th>Tennessee</th>\n",
       "      <td>6975218</td>\n",
       "    </tr>\n",
       "  </tbody>\n",
       "</table>\n",
       "</div>"
      ],
      "text/plain": [
       "             POP_2021\n",
       "NAME                 \n",
       "Oklahoma      3986639\n",
       "Nebraska      1963692\n",
       "Hawaii        1441553\n",
       "South Dakota   895376\n",
       "Tennessee     6975218"
      ]
     },
     "execution_count": 33,
     "metadata": {},
     "output_type": "execute_result"
    }
   ],
   "source": [
    "state_pop_df.head()"
   ]
  },
  {
   "cell_type": "code",
   "execution_count": 36,
   "id": "543c4c17-592f-42aa-8dd3-ecdeb8bad722",
   "metadata": {},
   "outputs": [
    {
     "data": {},
     "metadata": {},
     "output_type": "display_data"
    },
    {
     "data": {
      "application/vnd.holoviews_exec.v0+json": "",
      "text/html": [
       "<div id='1715'>\n",
       "  <div class=\"bk-root\" id=\"49cffa32-ccaa-4e6b-86ed-7110a7ac3e5b\" data-root-id=\"1715\"></div>\n",
       "</div>\n",
       "<script type=\"application/javascript\">(function(root) {\n",
       "  function embed_document(root) {\n",
       "    var docs_json = {\"ce762597-e2e5-4be8-858f-8a455bba5047\":{\"defs\":[{\"extends\":null,\"module\":null,\"name\":\"ReactiveHTML1\",\"overrides\":[],\"properties\":[]},{\"extends\":null,\"module\":null,\"name\":\"FlexBox1\",\"overrides\":[],\"properties\":[{\"default\":\"flex-start\",\"kind\":null,\"name\":\"align_content\"},{\"default\":\"flex-start\",\"kind\":null,\"name\":\"align_items\"},{\"default\":\"row\",\"kind\":null,\"name\":\"flex_direction\"},{\"default\":\"wrap\",\"kind\":null,\"name\":\"flex_wrap\"},{\"default\":\"flex-start\",\"kind\":null,\"name\":\"justify_content\"}]},{\"extends\":null,\"module\":null,\"name\":\"GridStack1\",\"overrides\":[],\"properties\":[{\"default\":\"warn\",\"kind\":null,\"name\":\"mode\"},{\"default\":null,\"kind\":null,\"name\":\"ncols\"},{\"default\":null,\"kind\":null,\"name\":\"nrows\"},{\"default\":true,\"kind\":null,\"name\":\"allow_resize\"},{\"default\":true,\"kind\":null,\"name\":\"allow_drag\"},{\"default\":[],\"kind\":null,\"name\":\"state\"}]},{\"extends\":null,\"module\":null,\"name\":\"click1\",\"overrides\":[],\"properties\":[{\"default\":\"\",\"kind\":null,\"name\":\"terminal_output\"},{\"default\":\"\",\"kind\":null,\"name\":\"debug_name\"},{\"default\":0,\"kind\":null,\"name\":\"clears\"}]},{\"extends\":null,\"module\":null,\"name\":\"NotificationAreaBase1\",\"overrides\":[],\"properties\":[{\"default\":\"bottom-right\",\"kind\":null,\"name\":\"position\"},{\"default\":0,\"kind\":null,\"name\":\"_clear\"}]},{\"extends\":null,\"module\":null,\"name\":\"NotificationArea1\",\"overrides\":[],\"properties\":[{\"default\":[],\"kind\":null,\"name\":\"notifications\"},{\"default\":\"bottom-right\",\"kind\":null,\"name\":\"position\"},{\"default\":0,\"kind\":null,\"name\":\"_clear\"},{\"default\":[{\"background\":\"#ffc107\",\"icon\":{\"className\":\"fas fa-exclamation-triangle\",\"color\":\"white\",\"tagName\":\"i\"},\"type\":\"warning\"},{\"background\":\"#007bff\",\"icon\":{\"className\":\"fas fa-info-circle\",\"color\":\"white\",\"tagName\":\"i\"},\"type\":\"info\"}],\"kind\":null,\"name\":\"types\"}]},{\"extends\":null,\"module\":null,\"name\":\"Notification\",\"overrides\":[],\"properties\":[{\"default\":null,\"kind\":null,\"name\":\"background\"},{\"default\":3000,\"kind\":null,\"name\":\"duration\"},{\"default\":null,\"kind\":null,\"name\":\"icon\"},{\"default\":\"\",\"kind\":null,\"name\":\"message\"},{\"default\":null,\"kind\":null,\"name\":\"notification_type\"},{\"default\":false,\"kind\":null,\"name\":\"_destroyed\"}]},{\"extends\":null,\"module\":null,\"name\":\"TemplateActions1\",\"overrides\":[],\"properties\":[{\"default\":0,\"kind\":null,\"name\":\"open_modal\"},{\"default\":0,\"kind\":null,\"name\":\"close_modal\"}]},{\"extends\":null,\"module\":null,\"name\":\"MaterialTemplateActions1\",\"overrides\":[],\"properties\":[{\"default\":0,\"kind\":null,\"name\":\"open_modal\"},{\"default\":0,\"kind\":null,\"name\":\"close_modal\"}]}],\"roots\":{\"references\":[{\"attributes\":{},\"id\":\"1749\",\"type\":\"Selection\"},{\"attributes\":{\"coordinates\":null,\"data_source\":{\"id\":\"1748\"},\"glyph\":{\"id\":\"1751\"},\"group\":null,\"hover_glyph\":null,\"muted_glyph\":{\"id\":\"1753\"},\"nonselection_glyph\":{\"id\":\"1752\"},\"selection_glyph\":{\"id\":\"1756\"},\"view\":{\"id\":\"1755\"}},\"id\":\"1754\",\"type\":\"GlyphRenderer\"},{\"attributes\":{\"fill_alpha\":{\"value\":0.2},\"fill_color\":{\"value\":\"#30a2da\"},\"hatch_alpha\":{\"value\":0.2},\"hatch_color\":{\"value\":\"#30a2da\"},\"line_alpha\":{\"value\":0.2},\"line_color\":{\"value\":\"#30a2da\"},\"size\":{\"value\":5.477225575051661},\"x\":{\"field\":\"NAME\"},\"y\":{\"field\":\"POP_2021\"}},\"id\":\"1753\",\"type\":\"Scatter\"},{\"attributes\":{\"margin\":[5,5,5,5],\"name\":\"HSpacer01644\",\"sizing_mode\":\"stretch_width\"},\"id\":\"1716\",\"type\":\"Spacer\"},{\"attributes\":{\"children\":[{\"id\":\"1716\"},{\"id\":\"1720\"},{\"id\":\"1773\"}],\"margin\":[0,0,0,0],\"name\":\"Row01640\",\"tags\":[\"embedded\"]},\"id\":\"1715\",\"type\":\"Row\"},{\"attributes\":{},\"id\":\"1761\",\"type\":\"CategoricalTickFormatter\"},{\"attributes\":{\"tools\":[{\"id\":\"1719\"},{\"id\":\"1735\"},{\"id\":\"1736\"},{\"id\":\"1737\"},{\"id\":\"1738\"},{\"id\":\"1739\"}]},\"id\":\"1741\",\"type\":\"Toolbar\"},{\"attributes\":{},\"id\":\"1770\",\"type\":\"UnionRenderers\"},{\"attributes\":{\"bottom_units\":\"screen\",\"coordinates\":null,\"fill_alpha\":0.5,\"fill_color\":\"lightgrey\",\"group\":null,\"left_units\":\"screen\",\"level\":\"overlay\",\"line_alpha\":1.0,\"line_color\":\"black\",\"line_dash\":[4,4],\"line_width\":2,\"right_units\":\"screen\",\"syncable\":false,\"top_units\":\"screen\"},\"id\":\"1740\",\"type\":\"BoxAnnotation\"},{\"attributes\":{},\"id\":\"1735\",\"type\":\"SaveTool\"},{\"attributes\":{},\"id\":\"1736\",\"type\":\"PanTool\"},{\"attributes\":{},\"id\":\"1739\",\"type\":\"ResetTool\"},{\"attributes\":{},\"id\":\"1762\",\"type\":\"AllLabels\"},{\"attributes\":{\"axis\":{\"id\":\"1729\"},\"coordinates\":null,\"grid_line_color\":null,\"group\":null,\"ticker\":null},\"id\":\"1731\",\"type\":\"Grid\"},{\"attributes\":{},\"id\":\"1737\",\"type\":\"WheelZoomTool\"},{\"attributes\":{},\"id\":\"1759\",\"type\":\"AllLabels\"},{\"attributes\":{\"coordinates\":null,\"group\":null,\"text\":\"POP_2021\",\"text_color\":\"black\",\"text_font_size\":\"12pt\"},\"id\":\"1721\",\"type\":\"Title\"},{\"attributes\":{\"overlay\":{\"id\":\"1740\"}},\"id\":\"1738\",\"type\":\"BoxZoomTool\"},{\"attributes\":{\"factors\":[\"Oklahoma\",\"Nebraska\",\"Hawaii\",\"South Dakota\",\"Tennessee\",\"Nevada\",\"New Mexico\",\"Iowa\",\"Kansas\",\"District of Columbia\",\"Texas\",\"Missouri\",\"Arkansas\",\"Michigan\",\"New Hampshire\",\"North Carolina\",\"Ohio\",\"South Carolina\",\"Wyoming\",\"California\",\"North Dakota\",\"Louisiana\",\"Maryland\",\"Delaware\",\"Pennsylvania\",\"Georgia\",\"Oregon\",\"Minnesota\",\"Colorado\",\"New Jersey\",\"Kentucky\",\"Washington\",\"Maine\",\"Vermont\",\"Idaho\",\"Indiana\",\"Montana\",\"New York\",\"Puerto Rico\",\"Connecticut\",\"Florida\",\"Virginia\",\"Massachusetts\",\"Illinois\",\"Mississippi\",\"Arizona\",\"Utah\",\"Wisconsin\",\"Alabama\",\"West Virginia\",\"Rhode Island\",\"Alaska\"],\"tags\":[[[\"NAME\",\"NAME\",null]]]},\"id\":\"1717\",\"type\":\"FactorRange\"},{\"attributes\":{},\"id\":\"1725\",\"type\":\"CategoricalScale\"},{\"attributes\":{\"axis\":{\"id\":\"1732\"},\"coordinates\":null,\"dimension\":1,\"grid_line_color\":null,\"group\":null,\"ticker\":null},\"id\":\"1734\",\"type\":\"Grid\"},{\"attributes\":{\"axis_label\":\"NAME\",\"coordinates\":null,\"formatter\":{\"id\":\"1758\"},\"group\":null,\"major_label_orientation\":1.5707963267948966,\"major_label_policy\":{\"id\":\"1759\"},\"ticker\":{\"id\":\"1730\"}},\"id\":\"1729\",\"type\":\"CategoricalAxis\"},{\"attributes\":{},\"id\":\"1758\",\"type\":\"CategoricalTickFormatter\"},{\"attributes\":{\"fill_alpha\":{\"value\":0.1},\"fill_color\":{\"value\":\"#30a2da\"},\"hatch_alpha\":{\"value\":0.1},\"hatch_color\":{\"value\":\"#30a2da\"},\"line_alpha\":{\"value\":0.1},\"line_color\":{\"value\":\"#30a2da\"},\"size\":{\"value\":5.477225575051661},\"x\":{\"field\":\"NAME\"},\"y\":{\"field\":\"POP_2021\"}},\"id\":\"1752\",\"type\":\"Scatter\"},{\"attributes\":{},\"id\":\"1727\",\"type\":\"CategoricalScale\"},{\"attributes\":{\"angle\":{\"value\":0.0},\"fill_alpha\":{\"value\":1.0},\"fill_color\":{\"value\":\"#30a2da\"},\"hatch_alpha\":{\"value\":1.0},\"hatch_color\":{\"value\":\"#30a2da\"},\"hatch_scale\":{\"value\":12.0},\"hatch_weight\":{\"value\":1.0},\"line_alpha\":{\"value\":1.0},\"line_cap\":{\"value\":\"butt\"},\"line_color\":{\"value\":\"#30a2da\"},\"line_dash\":{\"value\":[]},\"line_dash_offset\":{\"value\":0},\"line_join\":{\"value\":\"bevel\"},\"line_width\":{\"value\":1},\"marker\":{\"value\":\"circle\"},\"size\":{\"value\":5.477225575051661},\"x\":{\"field\":\"NAME\"},\"y\":{\"field\":\"POP_2021\"}},\"id\":\"1756\",\"type\":\"Scatter\"},{\"attributes\":{\"axis_label\":\"\",\"coordinates\":null,\"formatter\":{\"id\":\"1761\"},\"group\":null,\"major_label_policy\":{\"id\":\"1762\"},\"ticker\":{\"id\":\"1733\"}},\"id\":\"1732\",\"type\":\"CategoricalAxis\"},{\"attributes\":{\"fill_color\":{\"value\":\"#30a2da\"},\"hatch_color\":{\"value\":\"#30a2da\"},\"line_color\":{\"value\":\"#30a2da\"},\"size\":{\"value\":5.477225575051661},\"x\":{\"field\":\"NAME\"},\"y\":{\"field\":\"POP_2021\"}},\"id\":\"1751\",\"type\":\"Scatter\"},{\"attributes\":{\"callback\":null,\"renderers\":[{\"id\":\"1754\"}],\"tags\":[\"hv_created\"],\"tooltips\":[[\"NAME\",\"@{NAME}\"],[\"POP_2021\",\"@{POP_2021}\"]]},\"id\":\"1719\",\"type\":\"HoverTool\"},{\"attributes\":{},\"id\":\"1730\",\"type\":\"CategoricalTicker\"},{\"attributes\":{\"below\":[{\"id\":\"1729\"}],\"center\":[{\"id\":\"1731\"},{\"id\":\"1734\"}],\"height\":300,\"left\":[{\"id\":\"1732\"}],\"margin\":[5,5,5,5],\"min_border_bottom\":10,\"min_border_left\":10,\"min_border_right\":10,\"min_border_top\":10,\"renderers\":[{\"id\":\"1754\"}],\"sizing_mode\":\"fixed\",\"title\":{\"id\":\"1721\"},\"toolbar\":{\"id\":\"1741\"},\"width\":700,\"x_range\":{\"id\":\"1717\"},\"x_scale\":{\"id\":\"1725\"},\"y_range\":{\"id\":\"1718\"},\"y_scale\":{\"id\":\"1727\"}},\"id\":\"1720\",\"subtype\":\"Figure\",\"type\":\"Plot\"},{\"attributes\":{\"data\":{\"NAME\":[\"Oklahoma\",\"Nebraska\",\"Hawaii\",\"South Dakota\",\"Tennessee\",\"Nevada\",\"New Mexico\",\"Iowa\",\"Kansas\",\"District of Columbia\",\"Texas\",\"Missouri\",\"Arkansas\",\"Michigan\",\"New Hampshire\",\"North Carolina\",\"Ohio\",\"South Carolina\",\"Wyoming\",\"California\",\"North Dakota\",\"Louisiana\",\"Maryland\",\"Delaware\",\"Pennsylvania\",\"Georgia\",\"Oregon\",\"Minnesota\",\"Colorado\",\"New Jersey\",\"Kentucky\",\"Washington\",\"Maine\",\"Vermont\",\"Idaho\",\"Indiana\",\"Montana\",\"New York\",\"Puerto Rico\",\"Connecticut\",\"Florida\",\"Virginia\",\"Massachusetts\",\"Illinois\",\"Mississippi\",\"Arizona\",\"Utah\",\"Wisconsin\",\"Alabama\",\"West Virginia\",\"Rhode Island\",\"Alaska\"],\"POP_2021\":[\"3986639\",\"1963692\",\"1441553\",\"895376\",\"6975218\",\"3143991\",\"2115877\",\"3193079\",\"2934582\",\"670050\",\"29527941\",\"6168187\",\"3025891\",\"10050811\",\"1388992\",\"10551162\",\"11780017\",\"5190705\",\"578803\",\"39237836\",\"774948\",\"4624047\",\"6165129\",\"1003384\",\"12964056\",\"10799566\",\"4246155\",\"5707390\",\"5812069\",\"9267130\",\"4509394\",\"7738692\",\"1372247\",\"645570\",\"1900923\",\"6805985\",\"1104271\",\"19835913\",\"3263584\",\"3605597\",\"21781128\",\"8642274\",\"6984723\",\"12671469\",\"2949965\",\"7276316\",\"3337975\",\"5895908\",\"5039877\",\"1782959\",\"1095610\",\"732673\"]},\"selected\":{\"id\":\"1749\"},\"selection_policy\":{\"id\":\"1770\"}},\"id\":\"1748\",\"type\":\"ColumnDataSource\"},{\"attributes\":{},\"id\":\"1733\",\"type\":\"CategoricalTicker\"},{\"attributes\":{\"margin\":[5,5,5,5],\"name\":\"HSpacer01645\",\"sizing_mode\":\"stretch_width\"},\"id\":\"1773\",\"type\":\"Spacer\"},{\"attributes\":{\"factors\":[\"3986639\",\"1963692\",\"1441553\",\"895376\",\"6975218\",\"3143991\",\"2115877\",\"3193079\",\"2934582\",\"670050\",\"29527941\",\"6168187\",\"3025891\",\"10050811\",\"1388992\",\"10551162\",\"11780017\",\"5190705\",\"578803\",\"39237836\",\"774948\",\"4624047\",\"6165129\",\"1003384\",\"12964056\",\"10799566\",\"4246155\",\"5707390\",\"5812069\",\"9267130\",\"4509394\",\"7738692\",\"1372247\",\"645570\",\"1900923\",\"6805985\",\"1104271\",\"19835913\",\"3263584\",\"3605597\",\"21781128\",\"8642274\",\"6984723\",\"12671469\",\"2949965\",\"7276316\",\"3337975\",\"5895908\",\"5039877\",\"1782959\",\"1095610\",\"732673\"],\"tags\":[[[\"POP_2021\",\"POP_2021\",null]]]},\"id\":\"1718\",\"type\":\"FactorRange\"},{\"attributes\":{\"source\":{\"id\":\"1748\"}},\"id\":\"1755\",\"type\":\"CDSView\"}],\"root_ids\":[\"1715\"]},\"title\":\"Bokeh Application\",\"version\":\"2.4.3\"}};\n",
       "    var render_items = [{\"docid\":\"ce762597-e2e5-4be8-858f-8a455bba5047\",\"root_ids\":[\"1715\"],\"roots\":{\"1715\":\"49cffa32-ccaa-4e6b-86ed-7110a7ac3e5b\"}}];\n",
       "    root.Bokeh.embed.embed_items_notebook(docs_json, render_items);\n",
       "  }\n",
       "  if (root.Bokeh !== undefined && root.Bokeh.Panel !== undefined) {\n",
       "    embed_document(root);\n",
       "  } else {\n",
       "    var attempts = 0;\n",
       "    var timer = setInterval(function(root) {\n",
       "      if (root.Bokeh !== undefined && root.Bokeh.Panel !== undefined) {\n",
       "        clearInterval(timer);\n",
       "        embed_document(root);\n",
       "      } else if (document.readyState == \"complete\") {\n",
       "        attempts++;\n",
       "        if (attempts > 200) {\n",
       "          clearInterval(timer);\n",
       "          console.log(\"Bokeh: ERROR: Unable to run BokehJS code because BokehJS library is missing\");\n",
       "        }\n",
       "      }\n",
       "    }, 25, root)\n",
       "  }\n",
       "})(window);</script>"
      ],
      "text/plain": [
       ":Scatter   [NAME]   (POP_2021)"
      ]
     },
     "execution_count": 36,
     "metadata": {
      "application/vnd.holoviews_exec.v0+json": {
       "id": "1715"
      }
     },
     "output_type": "execute_result"
    }
   ],
   "source": [
    "state_pop_df['POP_2021'].hvplot.scatter(rot=90)"
   ]
  },
  {
   "cell_type": "code",
   "execution_count": 13,
   "id": "dd51ad2a-1205-462d-936f-723b39b52fbb",
   "metadata": {},
   "outputs": [],
   "source": [
    "# Define the base request URL\n",
    "income_by_age_url = \"https://api.census.gov/data/2021/cps/asec/mar?get=FEARNVAL&A_AGE&for=state:*&key=\"\n",
    "\n",
    "# Concatenate request_url and api_key. Store as new variable\n",
    "income_by_age_url = income_by_age_url + api_key"
   ]
  },
  {
   "cell_type": "code",
   "execution_count": 14,
   "id": "21f252c3-eaa6-437c-be2f-d90bb801afd1",
   "metadata": {},
   "outputs": [
    {
     "data": {
      "text/html": [
       "<div>\n",
       "<style scoped>\n",
       "    .dataframe tbody tr th:only-of-type {\n",
       "        vertical-align: middle;\n",
       "    }\n",
       "\n",
       "    .dataframe tbody tr th {\n",
       "        vertical-align: top;\n",
       "    }\n",
       "\n",
       "    .dataframe thead th {\n",
       "        text-align: right;\n",
       "    }\n",
       "</style>\n",
       "<table border=\"1\" class=\"dataframe\">\n",
       "  <thead>\n",
       "    <tr style=\"text-align: right;\">\n",
       "      <th></th>\n",
       "      <th>0</th>\n",
       "      <th>1</th>\n",
       "      <th>2</th>\n",
       "    </tr>\n",
       "  </thead>\n",
       "  <tbody>\n",
       "    <tr>\n",
       "      <th>0</th>\n",
       "      <td>FEARNVAL</td>\n",
       "      <td>A_AGE</td>\n",
       "      <td>state</td>\n",
       "    </tr>\n",
       "    <tr>\n",
       "      <th>1</th>\n",
       "      <td>10000</td>\n",
       "      <td>56</td>\n",
       "      <td>23</td>\n",
       "    </tr>\n",
       "    <tr>\n",
       "      <th>2</th>\n",
       "      <td>10000</td>\n",
       "      <td>57</td>\n",
       "      <td>23</td>\n",
       "    </tr>\n",
       "    <tr>\n",
       "      <th>3</th>\n",
       "      <td>10000</td>\n",
       "      <td>78</td>\n",
       "      <td>23</td>\n",
       "    </tr>\n",
       "    <tr>\n",
       "      <th>4</th>\n",
       "      <td>101000</td>\n",
       "      <td>65</td>\n",
       "      <td>23</td>\n",
       "    </tr>\n",
       "    <tr>\n",
       "      <th>5</th>\n",
       "      <td>101000</td>\n",
       "      <td>66</td>\n",
       "      <td>23</td>\n",
       "    </tr>\n",
       "    <tr>\n",
       "      <th>6</th>\n",
       "      <td>101000</td>\n",
       "      <td>28</td>\n",
       "      <td>23</td>\n",
       "    </tr>\n",
       "    <tr>\n",
       "      <th>7</th>\n",
       "      <td>0</td>\n",
       "      <td>72</td>\n",
       "      <td>23</td>\n",
       "    </tr>\n",
       "    <tr>\n",
       "      <th>8</th>\n",
       "      <td>0</td>\n",
       "      <td>46</td>\n",
       "      <td>23</td>\n",
       "    </tr>\n",
       "    <tr>\n",
       "      <th>9</th>\n",
       "      <td>0</td>\n",
       "      <td>11</td>\n",
       "      <td>23</td>\n",
       "    </tr>\n",
       "    <tr>\n",
       "      <th>10</th>\n",
       "      <td>60000</td>\n",
       "      <td>48</td>\n",
       "      <td>23</td>\n",
       "    </tr>\n",
       "    <tr>\n",
       "      <th>11</th>\n",
       "      <td>0</td>\n",
       "      <td>85</td>\n",
       "      <td>23</td>\n",
       "    </tr>\n",
       "    <tr>\n",
       "      <th>12</th>\n",
       "      <td>0</td>\n",
       "      <td>85</td>\n",
       "      <td>23</td>\n",
       "    </tr>\n",
       "    <tr>\n",
       "      <th>13</th>\n",
       "      <td>54700</td>\n",
       "      <td>28</td>\n",
       "      <td>23</td>\n",
       "    </tr>\n",
       "    <tr>\n",
       "      <th>14</th>\n",
       "      <td>0</td>\n",
       "      <td>70</td>\n",
       "      <td>23</td>\n",
       "    </tr>\n",
       "    <tr>\n",
       "      <th>15</th>\n",
       "      <td>104999</td>\n",
       "      <td>79</td>\n",
       "      <td>23</td>\n",
       "    </tr>\n",
       "    <tr>\n",
       "      <th>16</th>\n",
       "      <td>104999</td>\n",
       "      <td>49</td>\n",
       "      <td>23</td>\n",
       "    </tr>\n",
       "    <tr>\n",
       "      <th>17</th>\n",
       "      <td>104999</td>\n",
       "      <td>20</td>\n",
       "      <td>23</td>\n",
       "    </tr>\n",
       "    <tr>\n",
       "      <th>18</th>\n",
       "      <td>45000</td>\n",
       "      <td>30</td>\n",
       "      <td>23</td>\n",
       "    </tr>\n",
       "    <tr>\n",
       "      <th>19</th>\n",
       "      <td>97000</td>\n",
       "      <td>51</td>\n",
       "      <td>23</td>\n",
       "    </tr>\n",
       "  </tbody>\n",
       "</table>\n",
       "</div>"
      ],
      "text/plain": [
       "           0      1      2\n",
       "0   FEARNVAL  A_AGE  state\n",
       "1      10000     56     23\n",
       "2      10000     57     23\n",
       "3      10000     78     23\n",
       "4     101000     65     23\n",
       "5     101000     66     23\n",
       "6     101000     28     23\n",
       "7          0     72     23\n",
       "8          0     46     23\n",
       "9          0     11     23\n",
       "10     60000     48     23\n",
       "11         0     85     23\n",
       "12         0     85     23\n",
       "13     54700     28     23\n",
       "14         0     70     23\n",
       "15    104999     79     23\n",
       "16    104999     49     23\n",
       "17    104999     20     23\n",
       "18     45000     30     23\n",
       "19     97000     51     23"
      ]
     },
     "execution_count": 14,
     "metadata": {},
     "output_type": "execute_result"
    }
   ],
   "source": [
    "income_by_age_df = pd.read_json(income_by_age_url)\n",
    "income_by_age_df.head(20)"
   ]
  },
  {
   "cell_type": "code",
   "execution_count": 15,
   "id": "10e11493-1ea2-43ed-b890-fb9cd35bcf1d",
   "metadata": {},
   "outputs": [
    {
     "data": {
      "text/html": [
       "<div>\n",
       "<style scoped>\n",
       "    .dataframe tbody tr th:only-of-type {\n",
       "        vertical-align: middle;\n",
       "    }\n",
       "\n",
       "    .dataframe tbody tr th {\n",
       "        vertical-align: top;\n",
       "    }\n",
       "\n",
       "    .dataframe thead th {\n",
       "        text-align: right;\n",
       "    }\n",
       "</style>\n",
       "<table border=\"1\" class=\"dataframe\">\n",
       "  <thead>\n",
       "    <tr style=\"text-align: right;\">\n",
       "      <th></th>\n",
       "      <th>FEARNVAL</th>\n",
       "      <th>A_AGE</th>\n",
       "      <th>state</th>\n",
       "    </tr>\n",
       "  </thead>\n",
       "  <tbody>\n",
       "    <tr>\n",
       "      <th>1</th>\n",
       "      <td>10000</td>\n",
       "      <td>56</td>\n",
       "      <td>23</td>\n",
       "    </tr>\n",
       "    <tr>\n",
       "      <th>2</th>\n",
       "      <td>10000</td>\n",
       "      <td>57</td>\n",
       "      <td>23</td>\n",
       "    </tr>\n",
       "    <tr>\n",
       "      <th>3</th>\n",
       "      <td>10000</td>\n",
       "      <td>78</td>\n",
       "      <td>23</td>\n",
       "    </tr>\n",
       "    <tr>\n",
       "      <th>4</th>\n",
       "      <td>101000</td>\n",
       "      <td>65</td>\n",
       "      <td>23</td>\n",
       "    </tr>\n",
       "    <tr>\n",
       "      <th>5</th>\n",
       "      <td>101000</td>\n",
       "      <td>66</td>\n",
       "      <td>23</td>\n",
       "    </tr>\n",
       "  </tbody>\n",
       "</table>\n",
       "</div>"
      ],
      "text/plain": [
       "  FEARNVAL A_AGE state\n",
       "1    10000    56    23\n",
       "2    10000    57    23\n",
       "3    10000    78    23\n",
       "4   101000    65    23\n",
       "5   101000    66    23"
      ]
     },
     "execution_count": 15,
     "metadata": {},
     "output_type": "execute_result"
    }
   ],
   "source": [
    "income_by_age_df = income_by_age_df.rename(columns=income_by_age_df.iloc[0]).loc[1:]\n",
    "income_by_age_df.head()"
   ]
  },
  {
   "cell_type": "code",
   "execution_count": 19,
   "id": "c6b40535-764f-4046-8258-eece2a33dddf",
   "metadata": {},
   "outputs": [
    {
     "data": {
      "text/html": [
       "<div>\n",
       "<style scoped>\n",
       "    .dataframe tbody tr th:only-of-type {\n",
       "        vertical-align: middle;\n",
       "    }\n",
       "\n",
       "    .dataframe tbody tr th {\n",
       "        vertical-align: top;\n",
       "    }\n",
       "\n",
       "    .dataframe thead th {\n",
       "        text-align: right;\n",
       "    }\n",
       "</style>\n",
       "<table border=\"1\" class=\"dataframe\">\n",
       "  <thead>\n",
       "    <tr style=\"text-align: right;\">\n",
       "      <th></th>\n",
       "      <th>Family Earnings Annually</th>\n",
       "      <th>Age</th>\n",
       "      <th>State</th>\n",
       "    </tr>\n",
       "  </thead>\n",
       "  <tbody>\n",
       "    <tr>\n",
       "      <th>1</th>\n",
       "      <td>10000</td>\n",
       "      <td>56</td>\n",
       "      <td>23</td>\n",
       "    </tr>\n",
       "    <tr>\n",
       "      <th>2</th>\n",
       "      <td>10000</td>\n",
       "      <td>57</td>\n",
       "      <td>23</td>\n",
       "    </tr>\n",
       "    <tr>\n",
       "      <th>3</th>\n",
       "      <td>10000</td>\n",
       "      <td>78</td>\n",
       "      <td>23</td>\n",
       "    </tr>\n",
       "    <tr>\n",
       "      <th>4</th>\n",
       "      <td>101000</td>\n",
       "      <td>65</td>\n",
       "      <td>23</td>\n",
       "    </tr>\n",
       "    <tr>\n",
       "      <th>5</th>\n",
       "      <td>101000</td>\n",
       "      <td>66</td>\n",
       "      <td>23</td>\n",
       "    </tr>\n",
       "  </tbody>\n",
       "</table>\n",
       "</div>"
      ],
      "text/plain": [
       "  Family Earnings Annually Age State\n",
       "1                    10000  56    23\n",
       "2                    10000  57    23\n",
       "3                    10000  78    23\n",
       "4                   101000  65    23\n",
       "5                   101000  66    23"
      ]
     },
     "execution_count": 19,
     "metadata": {},
     "output_type": "execute_result"
    }
   ],
   "source": [
    "income_by_age_df = income_by_age_df.rename(columns={'FEARNVAL':'Family Earnings Annually', 'A_AGE':'Age', 'state':'State'})\n",
    "income_by_age_df.head()"
   ]
  },
  {
   "cell_type": "code",
   "execution_count": 20,
   "id": "daa0d297-ff84-477e-bd7f-4f18373ff0c6",
   "metadata": {},
   "outputs": [
    {
     "ename": "NameError",
     "evalue": "name 'State' is not defined",
     "output_type": "error",
     "traceback": [
      "\u001b[1;31m---------------------------------------------------------------------------\u001b[0m",
      "\u001b[1;31mNameError\u001b[0m                                 Traceback (most recent call last)",
      "\u001b[1;32m~\\AppData\\Local\\Temp\\ipykernel_3492\\3069418907.py\u001b[0m in \u001b[0;36m<module>\u001b[1;34m\u001b[0m\n\u001b[1;32m----> 1\u001b[1;33m \u001b[0mincome_by_age_df\u001b[0m\u001b[1;33m.\u001b[0m\u001b[0mgroupby\u001b[0m\u001b[1;33m(\u001b[0m\u001b[0mState\u001b[0m\u001b[1;33m)\u001b[0m\u001b[1;33m\u001b[0m\u001b[1;33m\u001b[0m\u001b[0m\n\u001b[0m",
      "\u001b[1;31mNameError\u001b[0m: name 'State' is not defined"
     ]
    }
   ],
   "source": [
    "income_by_age_df.groupby(State)"
   ]
  },
  {
   "cell_type": "code",
   "execution_count": null,
   "id": "f52b6f11-ed26-4678-93d6-bb1352942a8e",
   "metadata": {},
   "outputs": [],
   "source": []
  }
 ],
 "metadata": {
  "kernelspec": {
   "display_name": "Python 3 (ipykernel)",
   "language": "python",
   "name": "python3"
  },
  "language_info": {
   "codemirror_mode": {
    "name": "ipython",
    "version": 3
   },
   "file_extension": ".py",
   "mimetype": "text/x-python",
   "name": "python",
   "nbconvert_exporter": "python",
   "pygments_lexer": "ipython3",
   "version": "3.7.13"
  }
 },
 "nbformat": 4,
 "nbformat_minor": 5
}
